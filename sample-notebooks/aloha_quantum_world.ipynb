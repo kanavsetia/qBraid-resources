{
 "cells": [
  {
   "cell_type": "markdown",
   "metadata": {},
   "source": [
    "<center><font size=8 color='#7d159e'><b>Aloha, Quantum World!</b> </font></center>\n"
   ]
  },
  {
   "cell_type": "markdown",
   "metadata": {},
   "source": [
    "\n",
    "'Hello, World!' has been the most iconic computer program. There is a good chance that you, our reader, also began your journey in the world of programming by printing 'Hello, World!' on your screen. In this article, we aim to develop a quantum version of the 'Hello, World!' program that we call 'Aloha, Quantum World!'. Before we do that, let us discuss the significance of the traditional \"Hello, World!\" program.\n",
    "\n",
    "The Hello world program was developed by Brian Kernighan, in 1974. Its purpose was to be\n",
    "- the simplest possible program for the language\n",
    "- a demonstration of the syntax for a particular language \n",
    "- and to check everything is working correctly. Remember these were the days when people were still figuring out how to connect a display device to a computer. So, the program also checked if the program compiled correctly and if the connection to the input and output devices (such as a monitor) is not erring.\n",
    "\n",
    "Following the reasoning behind the classical 'Hello, World!', let us discuss what we would want to accomplish with quantum 'Hello, World!'\n",
    "- Similar to 'Hello, World!' we would want it to be the simplest quantum program. And, our version of quantum 'Hello, World!' is called 'Aloha, World!'.\n",
    "- 'Aloha, World!' should go through the quantum software and hardware layer to ensure the faithfulness of the stack.\n",
    "- Then, we want to go one step further. If you look into the details of 'Aloha, World!', it should present to you the details for how quantum computing is fundamentally different than classical computing.\n",
    "\n",
    "A few more comments about the state of quantum computers now compared to the state of classical computers when the 'Hello, World!' was developed. \n",
    "- The number of transistors in a microprocessor were in a few thousands in 1970s compared to a few ten's of qubits available in quantum computers currently.\n",
    "- People were starting develop high level languages for programming classical computers. 'Hello, World!' was first reference in 'B' a predecessor to the language 'C'. In comparison, most quantum computers are being programmed using python. \n",
    "\n",
    "\n",
    "Now, let us present to you the 'Aloha, Quantum World!' program. The function is called using the following piece of code:"
   ]
  },
  {
   "cell_type": "code",
   "execution_count": 3,
   "metadata": {},
   "outputs": [
    {
     "name": "stdout",
     "output_type": "stream",
     "text": [
      "Hello World!\n",
      "Bye World!\n",
      "Bye World!\n"
     ]
    }
   ],
   "source": [
    "import sys\n",
    "sys.path.append('../src/utils/')\n",
    "\n",
    "from demo_func import aloha_quantum_world\n",
    "aloha_quantum_world()\n",
    "aloha_quantum_world('quantum')\n",
    "aloha_quantum_world('quantum')"
   ]
  },
  {
   "cell_type": "markdown",
   "metadata": {},
   "source": [
    "Just like the classical 'Hello, World!' program, it is a simple program. If it is called without input, it always outputs 'Hello, World!'. But, if 'quantum' is passed as input then, it sometimes outputs the 'Hello, World!' and other times it outputs 'Bye, World!'. This is the reason why we thought naming this article 'Aloha, Quantum World!' was apt. If ran enough number of times, one will observe that the program in-fact prints 'Hello, World!' and 'Bye, World!' 50% of the time. We encourage you to play with the code to convince yourself.\n",
    "\n",
    "Now, you may ponder as to what may be going on behind the scenes in the program. Since the program seems to be printing 'Hello, World!' and 'Bye, World!' with 50% probability, your initial guess maybe that it is similar to a coin flip, And yes, it is similar but not quite! First, note that in the macroscopic world for which we have built our intuition, probability arises out of incomplete knowledge of a given system. e.g. in the case of a coin flip, if all the parameters for the coin flip are known, like the force with which it was flipped, the exact force of gravity, friction due to air, etc. then theoretically it will be possible to predict whether it will turn up heads or tails. But, because you don't know these parameters, the best you can do is predict with some probabilities. Again, I want you to appreciate that in the  classical world probabilities arise out of not knowing.\n",
    "\n",
    "Another important detail to note is that when the coin lands on the ground, it lands on either heads or tails. Let us say that you toss a coin in a dark room where you can't see whether the heads or tails have turned up. Even before you turn on the light to look, you can be sure that it is either heads or tails, it cannot be both at the same time.\n",
    "\n",
    "The program `aloha_quantum_world('quantum')` that we ran above is non-compliant with the two points that we just mentioned. The program uses a qubit or quantum bit in a 'superposition' of being '0' and '1'. \n",
    "Qubit is a quantum analog of a bit. A qubit could behave like a bit but also allows for more exotic behavior.\n",
    "Quantum Superposition, in very simple terms, is the property of quantum systems which allow them to be in two distinct states at the same time. When measured, the qubit returns, either 0 or 1. \n",
    "Corresponding to the two points we mentioned for a coin, note the following points for a qubit in superposition:\n",
    "First, even with complete knowledge of the state of a qubit, knowing everything that there is to be known for a state of a qubit, we will still not be able to predict the outcome. In fact, the universe itself does not 'know' whether the qubit will return 0 or 1 when measured. The probability in quantum systems does not arise from 'not knowing' but is actually built into the fabric of nature.\n",
    "Second, the qubit in the state of equal superposition of '0' and '1', is not like a coin lying on the ground in a dark room where it is one of those but we just don't know, but it is both '0' and '1' at the same time!!\n",
    "\n",
    "It is understandable if you are shaking your head in disbelief and asking yourself, 'How could this be?'. You are not alone in asking this question and the answer is: 'It is just the way nature is, and quantum mechanics is a theory based on observations.'. To learn more about quantum computation, we invite you to take our [QuBes Course](./Qubes_course/0_Introduction.ipynb) (quantum beginners) course on qBraid.com. We introduce all the background material and teach you quantum computing. The background material will cover the experiments that convinced physicist that,\n",
    "nature is probabilistic, and\n",
    "a qubit in superposition is both '0' and '1' at the same time. The superposition of a qubit could be leveraged to make quantum algorithms faster than their classical counterparts. One such algorithm covered in QuBes course is Deutsch's algorithm. You will be able to run the algorithm on IBM's actual quantum computer to see it in action!"
   ]
  },
  {
   "cell_type": "markdown",
   "metadata": {},
   "source": [
    "<center><font size=5 color='#7d159e'><b>In-depth discussion of \"Aloha, Quantum World!\"</b> </font></center>\n"
   ]
  },
  {
   "cell_type": "markdown",
   "metadata": {},
   "source": [
    "In this section, we present details for the inner workings of the `aloha_quantum_world('quantum')` program. Before, we present the details, let us present a different version of the classical 'Hello, World!' program. This would help us better understand the quantum program by brining out the contrast.\n",
    "\n",
    "The following is a python program which is a varriant of Hello World. Here, the string 'Hello World' is associated with the state '0' of a Bool variable, and 'Bye World' is associated with the state '1'. Our aim here is to associate the strings with the values of a bit (done using the type Bool in python), which is the fundamental unit of information in classical computing. The program takes as an input a bit value and outputs the corresponding string."
   ]
  },
  {
   "cell_type": "code",
   "execution_count": 6,
   "metadata": {},
   "outputs": [
    {
     "name": "stdout",
     "output_type": "stream",
     "text": [
      "========================\n",
      "       Hello, World!\n",
      "========================\n",
      "========================\n",
      "       Bye, World!\n",
      "========================\n"
     ]
    }
   ],
   "source": [
    "def hello_bye_world(bit_val):\n",
    "    if bit_val==0:\n",
    "        print('========================')\n",
    "        print('       Hello, World!')\n",
    "        print('========================')\n",
    "    elif bit_val==1:\n",
    "        print('========================')\n",
    "        print('       Bye, World!')\n",
    "        print('========================')\n",
    "        \n",
    "hello_bye_world(0)\n",
    "hello_bye_world(1)"
   ]
  },
  {
   "cell_type": "markdown",
   "metadata": {},
   "source": [
    "It is easy to see that the bit can only have two values, 0 and 1. So, the function could run with only two inputs, as demonstrated above. We now ask, what are the different operations possible on a bit. \n",
    "\n",
    "Note 1: we wrote the program that takes an input bit and returns a string corresponding to the bit value.\n",
    "\n",
    "Now, we ask, what are the possible operations that can be performed on a bit? And it can be seen that the only non-trivial operation possible on a bit is the bit-flip, where one changes the value of the bit, $0 \\rightarrow 1$ and $0 \\rightarrow 1$. We can write the code for a function that implements the bit flip operation:"
   ]
  },
  {
   "cell_type": "code",
   "execution_count": 7,
   "metadata": {},
   "outputs": [],
   "source": [
    "def bit_flip(bit_val):\n",
    "    return not bit_val"
   ]
  },
  {
   "cell_type": "markdown",
   "metadata": {},
   "source": [
    "We can use this bit-flip function in conjunction with our hello_bye_world() function, to turn a hello world into a bye world."
   ]
  },
  {
   "cell_type": "code",
   "execution_count": 8,
   "metadata": {},
   "outputs": [
    {
     "name": "stdout",
     "output_type": "stream",
     "text": [
      "========================\n",
      "       Hello, World!\n",
      "========================\n",
      "========================\n",
      "       Bye, World!\n",
      "========================\n"
     ]
    }
   ],
   "source": [
    "bit_val=0\n",
    "hello_bye_world(bit_val)\n",
    "bit_val=bit_flip(bit_val)\n",
    "hello_bye_world(bit_val)"
   ]
  },
  {
   "cell_type": "markdown",
   "metadata": {},
   "source": [
    "Note 2: The only possible operation on a bit is a bit-flip operation.\n",
    "\n",
    "The program so far, is deterministic. We ask, how can we make a probabilistic 'Hello, World!' program. For that we write a coin flip program which returns each '0' and '1', 50% of the time.\n"
   ]
  },
  {
   "cell_type": "code",
   "execution_count": 9,
   "metadata": {},
   "outputs": [],
   "source": [
    "def coin_flip():\n",
    "    import numpy as np\n",
    "    bit_val = np.random.randint(2)\n",
    "    return bit_val"
   ]
  },
  {
   "cell_type": "markdown",
   "metadata": {},
   "source": [
    "With this program we can write a small program for printing 'Hello, World!' and 'Bye, World!' randomly.\n"
   ]
  },
  {
   "cell_type": "code",
   "execution_count": 10,
   "metadata": {},
   "outputs": [
    {
     "name": "stdout",
     "output_type": "stream",
     "text": [
      "========================\n",
      "       Bye, World!\n",
      "========================\n"
     ]
    }
   ],
   "source": [
    "hello_bye_world(coin_flip())"
   ]
  },
  {
   "cell_type": "markdown",
   "metadata": {},
   "source": [
    "It can be checked by running the program multiple times that the outputs are random. \n",
    "\n",
    "Note 3: The randomness in the numbers generated by the numpy package arises out of some incomplete knowledge of the processes in the cpu of your computer.\n",
    "\n",
    "Now, we finally move on to the aloha_quantum_world('quantum') program. Following is the code for the `aloha_quantum_world()`:\n"
   ]
  },
  {
   "cell_type": "code",
   "execution_count": 11,
   "metadata": {},
   "outputs": [],
   "source": [
    "def aloha_quantum_world(input_str='classical', applyX=False):\n",
    "    from qiskit import QuantumCircuit, Aer, execute\n",
    "    circ = QuantumCircuit(1,1) \n",
    "    if input_str=='quantum':\n",
    "        circ.h(0)\n",
    "    if applyX:\n",
    "        circ.x(0)\n",
    "    circ.measure([0],[0])\n",
    "\n",
    "    backend_sim = Aer.get_backend('qasm_simulator')\n",
    "    sim = execute(circ, backend_sim, shots=1)\n",
    "    sim_result = sim.result()\n",
    "    counts = sim_result.get_counts(circ)\n",
    "    for key in counts:\n",
    "        if key=='0':\n",
    "            print('Hello World!')\n",
    "        elif key=='1':\n",
    "            print('Bye World!')\n"
   ]
  },
  {
   "cell_type": "markdown",
   "metadata": {},
   "source": [
    "The above program uses a 'qubit' or a quantum bit for two state system. A qubit just like a bit can be '0' or '1' state. If the aloha_quantum_world() is called without an argument, it initializes the qubit in state '0' and measures it. The measurement returns '0' and prints 'Hello, World!'"
   ]
  },
  {
   "cell_type": "code",
   "execution_count": 12,
   "metadata": {},
   "outputs": [
    {
     "name": "stdout",
     "output_type": "stream",
     "text": [
      "Hello World!\n"
     ]
    }
   ],
   "source": [
    "aloha_quantum_world()"
   ]
  },
  {
   "cell_type": "markdown",
   "metadata": {},
   "source": [
    "The `aloha_quantum_world()` can also take an argument for applying an X-gate which is similar to the NOT-gate in classical computing. And it can be seen that the application of `aloha_quantum_world('classical', True)` prints 'Bye, World!'"
   ]
  },
  {
   "cell_type": "code",
   "execution_count": 13,
   "metadata": {},
   "outputs": [
    {
     "name": "stdout",
     "output_type": "stream",
     "text": [
      "Bye World!\n"
     ]
    }
   ],
   "source": [
    "aloha_quantum_world('classical', True)"
   ]
  },
  {
   "cell_type": "markdown",
   "metadata": {},
   "source": [
    "So, we can establish that the qubits can behave like bits and return the greeting corresponding to the value (Note 1).\n",
    "\n",
    "Recall that the there was only one single-bit possible in classical computing (Note 2). In constrast, quantum computing allows for an infinite number of single qubit gates and states of a qubit which are a superposition of '0' and '1'. Loosely speaking, the superposition implies that the qubit could both '0' and '1' at the same time* until one measures at which point the state of the qubit collapses to being '0' or '1'. \n",
    "\n",
    "Let's run the aloha_quantum_world('quantum'), 5 times.\n",
    "\n",
    "\n",
    "*(for precise definition, we encourage the reader to take the QuBes course on qBraid.com)"
   ]
  },
  {
   "cell_type": "code",
   "execution_count": 14,
   "metadata": {},
   "outputs": [
    {
     "name": "stdout",
     "output_type": "stream",
     "text": [
      "Hello World!\n",
      "Hello World!\n",
      "Bye World!\n",
      "Bye World!\n",
      "Hello World!\n"
     ]
    }
   ],
   "source": [
    "for i in range(5):\n",
    "    aloha_quantum_world('quantum')"
   ]
  },
  {
   "cell_type": "markdown",
   "metadata": {},
   "source": [
    "If we analyze the code for the aloha_quantum_world(), we see that the H-gate is applied to the qubit if first argument 'quantum' is passed. With H-gate the qubit is put in a state of superposition and prints 'Hello, World!' and 'Bye, World!' with 50% probability. You may ask that how is the behavior of a qubit in a superposition different than a bit whose state is determined by a coin lying on the ground after a flip in a dark room?\n",
    "\n",
    "It will become clear that these two cases are different with the following experiment. If rather than determining the state of the bit with a single coin flip, we were to determine it using two coin flips, one after another, then it can be seen that the state of the bit will remain random. Let us say that the bit starts in state 0 and if we were to determine the state of the bit after two coin flips then the probability of it being in '0' or '1' will still be 50%. \n",
    "In contrast, if we were to start with a qubit in state 0 and apply an H-gate and then apply another H-gate, then the state of the qubit will be '0' with 100% probability. As we saw that above that applying a single H-gate behaves like a coin flip, but surprisingly, two consecutive H-gates cancel each other. This gives you a flavor for why quantum world is different, interesting and may be a little bit bizare. To learn more about quantum computing, you can take the [QuBes Course](./Qubes_course/0_Introduction.ipynb).\n"
   ]
  },
  {
   "cell_type": "code",
   "execution_count": null,
   "metadata": {},
   "outputs": [],
   "source": []
  }
 ],
 "metadata": {
  "kernelspec": {
   "display_name": "Python 3 [Default]",
   "language": "python",
   "name": "python3"
  },
  "language_info": {
   "codemirror_mode": {
    "name": "ipython",
    "version": 3
   },
   "file_extension": ".py",
   "mimetype": "text/x-python",
   "name": "python",
   "nbconvert_exporter": "python",
   "pygments_lexer": "ipython3",
   "version": "3.9.12"
  },
  "widgets": {
   "application/vnd.jupyter.widget-state+json": {
    "state": {},
    "version_major": 2,
    "version_minor": 0
   }
  }
 },
 "nbformat": 4,
 "nbformat_minor": 4
}
