{
 "cells": [
  {
   "cell_type": "code",
   "execution_count": 15,
   "id": "0ddb5753-8a3c-49ab-beae-7c1c1c6ddaa9",
   "metadata": {},
   "outputs": [
    {
     "name": "stdout",
     "output_type": "stream",
     "text": [
      "\u001b[0;31mERROR: Invalid argument \u001b[0mqiskit\n",
      "\n",
      "qBraid Quantum Jobs not configured for \u001b[0;35mqiskit\u001b[0m environment.\n"
     ]
    }
   ],
   "source": [
    "# !qbraid jobs activate qiskit\n",
    "!qbraid jobs disable qiskit"
   ]
  },
  {
   "cell_type": "code",
   "execution_count": 16,
   "id": "9fc7f490-6d19-4694-a1af-aacf1c9169dc",
   "metadata": {},
   "outputs": [],
   "source": [
    "import time\n",
    "\n",
    "import matplotlib.pyplot as plt\n",
    "from IPython.display import clear_output\n",
    "\n",
    "#Import Qiskit classes\n",
    "import qiskit\n",
    "from qiskit import assemble, transpile\n",
    "from qiskit.providers.aer.noise import NoiseModel\n",
    "from qiskit.providers.aer.noise.errors.standard_errors import depolarizing_error, thermal_relaxation_error\n",
    "\n",
    "#Import the qv function\n",
    "import qiskit.ignis.verification.quantum_volume as qv\n",
    "from qiskit import IBMQ\n"
   ]
  },
  {
   "cell_type": "code",
   "execution_count": 17,
   "id": "571609c1-e0cc-4a2e-baa1-8da49e8d7c77",
   "metadata": {},
   "outputs": [
    {
     "name": "stdout",
     "output_type": "stream",
     "text": [
      "0.00015306472778320312\n"
     ]
    }
   ],
   "source": [
    "import time\n",
    "t1=time.time()\n",
    "import matplotlib.pyplot as plt\n",
    "from IPython.display import clear_output\n",
    "\n",
    "#Import Qiskit classes\n",
    "import qiskit\n",
    "from qiskit import assemble, transpile\n",
    "from qiskit.providers.aer.noise import NoiseModel\n",
    "from qiskit.providers.aer.noise.errors.standard_errors import depolarizing_error, thermal_relaxation_error\n",
    "\n",
    "#Import the qv function\n",
    "import qiskit.ignis.verification.quantum_volume as qv\n",
    "from qiskit import IBMQ\n",
    "print(time.time()-t1)"
   ]
  },
  {
   "cell_type": "code",
   "execution_count": 18,
   "id": "37d4812c-32b4-4b64-8221-466abfbd363b",
   "metadata": {},
   "outputs": [],
   "source": [
    "import matplotlib.pyplot as plt\n",
    "from IPython.display import clear_output\n",
    "\n",
    "#Import Qiskit classes\n",
    "import qiskit\n",
    "from qiskit import assemble, transpile\n",
    "from qiskit.providers.aer.noise import NoiseModel\n",
    "from qiskit.providers.aer.noise.errors.standard_errors import depolarizing_error, thermal_relaxation_error\n",
    "\n",
    "#Import the qv function\n",
    "import qiskit.ignis.verification.quantum_volume as qv\n",
    "from qiskit import IBMQ"
   ]
  },
  {
   "cell_type": "code",
   "execution_count": 19,
   "id": "bfa14f04-fac7-4d68-afa5-c172f3a2bfb4",
   "metadata": {},
   "outputs": [],
   "source": [
    "\n",
    "# IBMQ.enable_account(token='961422f04b5e48fa7a2a64b355d58feb83ff03bde8facc8d320b8587a91c46c3ae20d62ab5873375cc74260ddc246924dc6e04bdad12f869b37592f7946f0060', hub='ibm-q-startup', group='qbraid', project='main')\n",
    "IBMQ.save_account(token='961422f04b5e48fa7a2a64b355d58feb83ff03bde8facc8d320b8587a91c46c3ae20d62ab5873375cc74260ddc246924dc6e04bdad12f869b37592f7946f0060', hub='ibm-q-startup', group='qbraid', project='main',overwrite=True)\n",
    "\n"
   ]
  },
  {
   "cell_type": "code",
   "execution_count": 20,
   "id": "561476ca-fdfe-4d9b-a54d-b3542e8ee137",
   "metadata": {},
   "outputs": [
    {
     "data": {
      "text/plain": [
       "[]"
      ]
     },
     "execution_count": 20,
     "metadata": {},
     "output_type": "execute_result"
    }
   ],
   "source": [
    "IBMQ.providers()"
   ]
  },
  {
   "cell_type": "code",
   "execution_count": 7,
   "id": "88fc6ee7-79a9-4035-a789-6b4defc61b47",
   "metadata": {},
   "outputs": [
    {
     "ename": "RequestsApiError",
     "evalue": "'400 Client Error: Bad Request for url: https://api-staging-1.qbraid.com/api/ibm-routes?route=/version. \"If you don\\'t specify an idToken, you must specify both an email and refreshToken\"'",
     "output_type": "error",
     "traceback": [
      "\u001b[0;31m---------------------------------------------------------------------------\u001b[0m",
      "\u001b[0;31mHTTPError\u001b[0m                                 Traceback (most recent call last)",
      "File \u001b[0;32m~/.qbraid/environments/qiskit_9y9siy/pyenv/lib/python3.9/site-packages/qiskit_ibm_provider/api/session.py:264\u001b[0m, in \u001b[0;36mRetrySession.request\u001b[0;34m(self, method, url, bare, **kwargs)\u001b[0m\n\u001b[1;32m    263\u001b[0m     response \u001b[38;5;241m=\u001b[39m \u001b[38;5;28msuper\u001b[39m()\u001b[38;5;241m.\u001b[39mrequest(method, final_url, headers\u001b[38;5;241m=\u001b[39mheaders, \u001b[38;5;241m*\u001b[39m\u001b[38;5;241m*\u001b[39mkwargs)\n\u001b[0;32m--> 264\u001b[0m     \u001b[43mresponse\u001b[49m\u001b[38;5;241;43m.\u001b[39;49m\u001b[43mraise_for_status\u001b[49m\u001b[43m(\u001b[49m\u001b[43m)\u001b[49m\n\u001b[1;32m    265\u001b[0m \u001b[38;5;28;01mexcept\u001b[39;00m RequestException \u001b[38;5;28;01mas\u001b[39;00m ex:\n\u001b[1;32m    266\u001b[0m     \u001b[38;5;66;03m# Wrap the requests exceptions into a IBM Q custom one, for\u001b[39;00m\n\u001b[1;32m    267\u001b[0m     \u001b[38;5;66;03m# compatibility.\u001b[39;00m\n",
      "File \u001b[0;32m~/.qbraid/environments/qiskit_9y9siy/pyenv/lib/python3.9/site-packages/requests/models.py:1021\u001b[0m, in \u001b[0;36mResponse.raise_for_status\u001b[0;34m(self)\u001b[0m\n\u001b[1;32m   1020\u001b[0m \u001b[38;5;28;01mif\u001b[39;00m http_error_msg:\n\u001b[0;32m-> 1021\u001b[0m     \u001b[38;5;28;01mraise\u001b[39;00m HTTPError(http_error_msg, response\u001b[38;5;241m=\u001b[39m\u001b[38;5;28mself\u001b[39m)\n",
      "\u001b[0;31mHTTPError\u001b[0m: 400 Client Error: Bad Request for url: https://api-staging-1.qbraid.com/api/ibm-routes?route=/version",
      "\nThe above exception was the direct cause of the following exception:\n",
      "\u001b[0;31mRequestsApiError\u001b[0m                          Traceback (most recent call last)",
      "Cell \u001b[0;32mIn[7], line 3\u001b[0m\n\u001b[1;32m      1\u001b[0m \u001b[38;5;28;01mfrom\u001b[39;00m \u001b[38;5;21;01mqiskit_ibm_provider\u001b[39;00m \u001b[38;5;28;01mimport\u001b[39;00m IBMProvider\n\u001b[0;32m----> 3\u001b[0m provider \u001b[38;5;241m=\u001b[39m \u001b[43mIBMProvider\u001b[49m\u001b[43m(\u001b[49m\u001b[43minstance\u001b[49m\u001b[38;5;241;43m=\u001b[39;49m\u001b[38;5;124;43m\"\u001b[39;49m\u001b[38;5;124;43mibm-q-startup/qbraid/main\u001b[39;49m\u001b[38;5;124;43m\"\u001b[39;49m\u001b[43m)\u001b[49m\n\u001b[1;32m      5\u001b[0m \u001b[38;5;66;03m#If you want to retrieve a list of jobs\u001b[39;00m\n\u001b[1;32m      6\u001b[0m jobs \u001b[38;5;241m=\u001b[39m provider\u001b[38;5;241m.\u001b[39mbackend\u001b[38;5;241m.\u001b[39mjobs(backend_name\u001b[38;5;241m=\u001b[39m\u001b[38;5;124m'\u001b[39m\u001b[38;5;124mibm_perth\u001b[39m\u001b[38;5;124m'\u001b[39m)\n",
      "File \u001b[0;32m~/.qbraid/environments/qiskit_9y9siy/pyenv/lib/python3.9/site-packages/qiskit_ibm_provider/ibm_provider.py:174\u001b[0m, in \u001b[0;36mIBMProvider.__init__\u001b[0;34m(self, token, url, name, instance, proxies, verify)\u001b[0m\n\u001b[1;32m    158\u001b[0m \u001b[38;5;28mself\u001b[39m\u001b[38;5;241m.\u001b[39m_account \u001b[38;5;241m=\u001b[39m \u001b[38;5;28mself\u001b[39m\u001b[38;5;241m.\u001b[39m_discover_account(\n\u001b[1;32m    159\u001b[0m     token\u001b[38;5;241m=\u001b[39mtoken,\n\u001b[1;32m    160\u001b[0m     url\u001b[38;5;241m=\u001b[39murl,\n\u001b[0;32m   (...)\u001b[0m\n\u001b[1;32m    164\u001b[0m     verify\u001b[38;5;241m=\u001b[39mverify,\n\u001b[1;32m    165\u001b[0m )\n\u001b[1;32m    167\u001b[0m \u001b[38;5;28mself\u001b[39m\u001b[38;5;241m.\u001b[39m_client_params \u001b[38;5;241m=\u001b[39m ClientParameters(\n\u001b[1;32m    168\u001b[0m     token\u001b[38;5;241m=\u001b[39m\u001b[38;5;28mself\u001b[39m\u001b[38;5;241m.\u001b[39m_account\u001b[38;5;241m.\u001b[39mtoken,\n\u001b[1;32m    169\u001b[0m     url\u001b[38;5;241m=\u001b[39m\u001b[38;5;28mself\u001b[39m\u001b[38;5;241m.\u001b[39m_account\u001b[38;5;241m.\u001b[39murl,\n\u001b[0;32m   (...)\u001b[0m\n\u001b[1;32m    172\u001b[0m     verify\u001b[38;5;241m=\u001b[39m\u001b[38;5;28mself\u001b[39m\u001b[38;5;241m.\u001b[39m_account\u001b[38;5;241m.\u001b[39mverify,\n\u001b[1;32m    173\u001b[0m )\n\u001b[0;32m--> 174\u001b[0m \u001b[38;5;28mself\u001b[39m\u001b[38;5;241m.\u001b[39m_auth_client \u001b[38;5;241m=\u001b[39m \u001b[38;5;28;43mself\u001b[39;49m\u001b[38;5;241;43m.\u001b[39;49m\u001b[43m_authenticate_ibm_quantum_account\u001b[49m\u001b[43m(\u001b[49m\u001b[38;5;28;43mself\u001b[39;49m\u001b[38;5;241;43m.\u001b[39;49m\u001b[43m_client_params\u001b[49m\u001b[43m)\u001b[49m\n\u001b[1;32m    175\u001b[0m \u001b[38;5;28mself\u001b[39m\u001b[38;5;241m.\u001b[39m_client_params\u001b[38;5;241m.\u001b[39murl \u001b[38;5;241m=\u001b[39m \u001b[38;5;28mself\u001b[39m\u001b[38;5;241m.\u001b[39m_auth_client\u001b[38;5;241m.\u001b[39mcurrent_service_urls()[\u001b[38;5;124m\"\u001b[39m\u001b[38;5;124mservices\u001b[39m\u001b[38;5;124m\"\u001b[39m][\n\u001b[1;32m    176\u001b[0m     \u001b[38;5;124m\"\u001b[39m\u001b[38;5;124mruntime\u001b[39m\u001b[38;5;124m\"\u001b[39m\n\u001b[1;32m    177\u001b[0m ]\n\u001b[1;32m    178\u001b[0m \u001b[38;5;28mself\u001b[39m\u001b[38;5;241m.\u001b[39m_client_params\u001b[38;5;241m.\u001b[39mtoken \u001b[38;5;241m=\u001b[39m \u001b[38;5;28mself\u001b[39m\u001b[38;5;241m.\u001b[39m_auth_client\u001b[38;5;241m.\u001b[39mcurrent_access_token()\n",
      "File \u001b[0;32m~/.qbraid/environments/qiskit_9y9siy/pyenv/lib/python3.9/site-packages/qiskit_ibm_provider/ibm_provider.py:318\u001b[0m, in \u001b[0;36mIBMProvider._authenticate_ibm_quantum_account\u001b[0;34m(self, client_params)\u001b[0m\n\u001b[1;32m    303\u001b[0m \u001b[38;5;28;01mdef\u001b[39;00m \u001b[38;5;21m_authenticate_ibm_quantum_account\u001b[39m(\n\u001b[1;32m    304\u001b[0m     \u001b[38;5;28mself\u001b[39m, client_params: ClientParameters\n\u001b[1;32m    305\u001b[0m ) \u001b[38;5;241m-\u001b[39m\u001b[38;5;241m>\u001b[39m AuthClient:\n\u001b[1;32m    306\u001b[0m     \u001b[38;5;124;03m\"\"\"Authenticate against IBM Quantum and populate the hub/group/projects.\u001b[39;00m\n\u001b[1;32m    307\u001b[0m \n\u001b[1;32m    308\u001b[0m \u001b[38;5;124;03m    Args:\u001b[39;00m\n\u001b[0;32m   (...)\u001b[0m\n\u001b[1;32m    316\u001b[0m \u001b[38;5;124;03m        Authentication client.\u001b[39;00m\n\u001b[1;32m    317\u001b[0m \u001b[38;5;124;03m    \"\"\"\u001b[39;00m\n\u001b[0;32m--> 318\u001b[0m     version_info \u001b[38;5;241m=\u001b[39m \u001b[38;5;28;43mself\u001b[39;49m\u001b[38;5;241;43m.\u001b[39;49m\u001b[43m_check_api_version\u001b[49m\u001b[43m(\u001b[49m\u001b[43mclient_params\u001b[49m\u001b[43m)\u001b[49m\n\u001b[1;32m    319\u001b[0m     \u001b[38;5;66;03m# Check the URL is a valid authentication URL.\u001b[39;00m\n\u001b[1;32m    320\u001b[0m     \u001b[38;5;28;01mif\u001b[39;00m \u001b[38;5;129;01mnot\u001b[39;00m version_info[\u001b[38;5;124m\"\u001b[39m\u001b[38;5;124mnew_api\u001b[39m\u001b[38;5;124m\"\u001b[39m] \u001b[38;5;129;01mor\u001b[39;00m \u001b[38;5;124m\"\u001b[39m\u001b[38;5;124mapi-auth\u001b[39m\u001b[38;5;124m\"\u001b[39m \u001b[38;5;129;01mnot\u001b[39;00m \u001b[38;5;129;01min\u001b[39;00m version_info:\n",
      "File \u001b[0;32m~/.qbraid/environments/qiskit_9y9siy/pyenv/lib/python3.9/site-packages/qiskit_ibm_provider/ibm_provider.py:340\u001b[0m, in \u001b[0;36mIBMProvider._check_api_version\u001b[0;34m(params)\u001b[0m\n\u001b[1;32m    331\u001b[0m \u001b[38;5;124;03m\"\"\"Check the version of the remote server in a set of client parameters.\u001b[39;00m\n\u001b[1;32m    332\u001b[0m \n\u001b[1;32m    333\u001b[0m \u001b[38;5;124;03mArgs:\u001b[39;00m\n\u001b[0;32m   (...)\u001b[0m\n\u001b[1;32m    337\u001b[0m \u001b[38;5;124;03m    A dictionary with version information.\u001b[39;00m\n\u001b[1;32m    338\u001b[0m \u001b[38;5;124;03m\"\"\"\u001b[39;00m\n\u001b[1;32m    339\u001b[0m version_finder \u001b[38;5;241m=\u001b[39m VersionClient(url\u001b[38;5;241m=\u001b[39mparams\u001b[38;5;241m.\u001b[39murl, \u001b[38;5;241m*\u001b[39m\u001b[38;5;241m*\u001b[39mparams\u001b[38;5;241m.\u001b[39mconnection_parameters())\n\u001b[0;32m--> 340\u001b[0m \u001b[38;5;28;01mreturn\u001b[39;00m \u001b[43mversion_finder\u001b[49m\u001b[38;5;241;43m.\u001b[39;49m\u001b[43mversion\u001b[49m\u001b[43m(\u001b[49m\u001b[43m)\u001b[49m\n",
      "File \u001b[0;32m~/.qbraid/environments/qiskit_9y9siy/pyenv/lib/python3.9/site-packages/qiskit_ibm_provider/api/clients/version.py:47\u001b[0m, in \u001b[0;36mVersionClient.version\u001b[0;34m(self)\u001b[0m\n\u001b[1;32m     34\u001b[0m \u001b[38;5;28;01mdef\u001b[39;00m \u001b[38;5;21mversion\u001b[39m(\u001b[38;5;28mself\u001b[39m) \u001b[38;5;241m-\u001b[39m\u001b[38;5;241m>\u001b[39m Dict[\u001b[38;5;28mstr\u001b[39m, Union[\u001b[38;5;28mbool\u001b[39m, \u001b[38;5;28mstr\u001b[39m]]:\n\u001b[1;32m     35\u001b[0m     \u001b[38;5;124;03m\"\"\"Return the version information.\u001b[39;00m\n\u001b[1;32m     36\u001b[0m \n\u001b[1;32m     37\u001b[0m \u001b[38;5;124;03m    Returns:\u001b[39;00m\n\u001b[0;32m   (...)\u001b[0m\n\u001b[1;32m     45\u001b[0m \u001b[38;5;124;03m            * ``api-*`` (str): The versions of each individual API component\u001b[39;00m\n\u001b[1;32m     46\u001b[0m \u001b[38;5;124;03m    \"\"\"\u001b[39;00m\n\u001b[0;32m---> 47\u001b[0m     \u001b[38;5;28;01mreturn\u001b[39;00m \u001b[38;5;28;43mself\u001b[39;49m\u001b[38;5;241;43m.\u001b[39;49m\u001b[43mclient_version_finder\u001b[49m\u001b[38;5;241;43m.\u001b[39;49m\u001b[43mversion\u001b[49m\u001b[43m(\u001b[49m\u001b[43m)\u001b[49m\n",
      "File \u001b[0;32m~/.qbraid/environments/qiskit_9y9siy/pyenv/lib/python3.9/site-packages/qiskit_ibm_provider/api/rest/root.py:76\u001b[0m, in \u001b[0;36mApi.version\u001b[0;34m(self)\u001b[0m\n\u001b[1;32m     63\u001b[0m \u001b[38;5;124;03m\"\"\"Return the version information.\u001b[39;00m\n\u001b[1;32m     64\u001b[0m \n\u001b[1;32m     65\u001b[0m \u001b[38;5;124;03mReturns:\u001b[39;00m\n\u001b[0;32m   (...)\u001b[0m\n\u001b[1;32m     73\u001b[0m \u001b[38;5;124;03m        * ``api-*`` (str): The versions of each individual API component\u001b[39;00m\n\u001b[1;32m     74\u001b[0m \u001b[38;5;124;03m\"\"\"\u001b[39;00m\n\u001b[1;32m     75\u001b[0m url \u001b[38;5;241m=\u001b[39m \u001b[38;5;28mself\u001b[39m\u001b[38;5;241m.\u001b[39mget_url(\u001b[38;5;124m\"\u001b[39m\u001b[38;5;124mversion\u001b[39m\u001b[38;5;124m\"\u001b[39m)\n\u001b[0;32m---> 76\u001b[0m response \u001b[38;5;241m=\u001b[39m \u001b[38;5;28;43mself\u001b[39;49m\u001b[38;5;241;43m.\u001b[39;49m\u001b[43msession\u001b[49m\u001b[38;5;241;43m.\u001b[39;49m\u001b[43mget\u001b[49m\u001b[43m(\u001b[49m\u001b[43murl\u001b[49m\u001b[43m)\u001b[49m\n\u001b[1;32m     78\u001b[0m \u001b[38;5;28;01mtry\u001b[39;00m:\n\u001b[1;32m     79\u001b[0m     version_info \u001b[38;5;241m=\u001b[39m response\u001b[38;5;241m.\u001b[39mjson()\n",
      "File \u001b[0;32m~/.qbraid/environments/qiskit_9y9siy/pyenv/lib/python3.9/site-packages/requests/sessions.py:600\u001b[0m, in \u001b[0;36mSession.get\u001b[0;34m(self, url, **kwargs)\u001b[0m\n\u001b[1;32m    592\u001b[0m \u001b[38;5;124mr\u001b[39m\u001b[38;5;124;03m\"\"\"Sends a GET request. Returns :class:`Response` object.\u001b[39;00m\n\u001b[1;32m    593\u001b[0m \n\u001b[1;32m    594\u001b[0m \u001b[38;5;124;03m:param url: URL for the new :class:`Request` object.\u001b[39;00m\n\u001b[1;32m    595\u001b[0m \u001b[38;5;124;03m:param \\*\\*kwargs: Optional arguments that ``request`` takes.\u001b[39;00m\n\u001b[1;32m    596\u001b[0m \u001b[38;5;124;03m:rtype: requests.Response\u001b[39;00m\n\u001b[1;32m    597\u001b[0m \u001b[38;5;124;03m\"\"\"\u001b[39;00m\n\u001b[1;32m    599\u001b[0m kwargs\u001b[38;5;241m.\u001b[39msetdefault(\u001b[38;5;124m\"\u001b[39m\u001b[38;5;124mallow_redirects\u001b[39m\u001b[38;5;124m\"\u001b[39m, \u001b[38;5;28;01mTrue\u001b[39;00m)\n\u001b[0;32m--> 600\u001b[0m \u001b[38;5;28;01mreturn\u001b[39;00m \u001b[38;5;28;43mself\u001b[39;49m\u001b[38;5;241;43m.\u001b[39;49m\u001b[43mrequest\u001b[49m\u001b[43m(\u001b[49m\u001b[38;5;124;43m\"\u001b[39;49m\u001b[38;5;124;43mGET\u001b[39;49m\u001b[38;5;124;43m\"\u001b[39;49m\u001b[43m,\u001b[49m\u001b[43m \u001b[49m\u001b[43murl\u001b[49m\u001b[43m,\u001b[49m\u001b[43m \u001b[49m\u001b[38;5;241;43m*\u001b[39;49m\u001b[38;5;241;43m*\u001b[39;49m\u001b[43mkwargs\u001b[49m\u001b[43m)\u001b[49m\n",
      "File \u001b[0;32m~/.qbraid/environments/qiskit_9y9siy/pyenv/lib/python3.9/site-packages/qiskit_ibm_provider/api/session.py:285\u001b[0m, in \u001b[0;36mRetrySession.request\u001b[0;34m(self, method, url, bare, **kwargs)\u001b[0m\n\u001b[1;32m    281\u001b[0m         \u001b[38;5;28;01mexcept\u001b[39;00m \u001b[38;5;167;01mException\u001b[39;00m:  \u001b[38;5;66;03m# pylint: disable=broad-except\u001b[39;00m\n\u001b[1;32m    282\u001b[0m             \u001b[38;5;66;03m# the response did not contain the expected json.\u001b[39;00m\n\u001b[1;32m    283\u001b[0m             message \u001b[38;5;241m+\u001b[39m\u001b[38;5;241m=\u001b[39m \u001b[38;5;124mf\u001b[39m\u001b[38;5;124m\"\u001b[39m\u001b[38;5;124m. \u001b[39m\u001b[38;5;132;01m{\u001b[39;00mex\u001b[38;5;241m.\u001b[39mresponse\u001b[38;5;241m.\u001b[39mtext\u001b[38;5;132;01m}\u001b[39;00m\u001b[38;5;124m\"\u001b[39m\n\u001b[0;32m--> 285\u001b[0m     \u001b[38;5;28;01mraise\u001b[39;00m RequestsApiError(message, status_code) \u001b[38;5;28;01mfrom\u001b[39;00m \u001b[38;5;21;01mex\u001b[39;00m\n\u001b[1;32m    287\u001b[0m \u001b[38;5;28;01mreturn\u001b[39;00m response\n",
      "\u001b[0;31mRequestsApiError\u001b[0m: '400 Client Error: Bad Request for url: https://api-staging-1.qbraid.com/api/ibm-routes?route=/version. \"If you don\\'t specify an idToken, you must specify both an email and refreshToken\"'"
     ]
    }
   ],
   "source": [
    "from qiskit_ibm_provider import IBMProvider\n",
    "\n",
    "provider = IBMProvider(instance=\"ibm-q-startup/qbraid/main\")\n",
    "\n",
    "#If you want to retrieve a list of jobs\n",
    "jobs = provider.backend.jobs(backend_name='ibm_perth')\n",
    "\n"
   ]
  },
  {
   "cell_type": "code",
   "execution_count": 27,
   "id": "add1deb4-4eaa-41a6-8cd5-05d04d557081",
   "metadata": {},
   "outputs": [
    {
     "data": {
      "text/plain": [
       "[{'header': {'backend_name': 'ibmq_belem', 'backend_version': '1.2.9'},\n",
       "  'qobj_id': 'df70df29-39cd-4a99-8f61-6cf1a257708b',\n",
       "  'experiments': [{'config': {'n_qubits': 5, 'memory_slots': 2},\n",
       "    'header': {'name': 'circuit-115',\n",
       "     'creg_sizes': [['c', 2]],\n",
       "     'qreg_sizes': [['q', 5]],\n",
       "     'global_phase': 0.7853981633974483,\n",
       "     'memory_slots': 2,\n",
       "     'qubit_labels': [['q', 0], ['q', 1], ['q', 2], ['q', 3], ['q', 4]],\n",
       "     'metadata': {},\n",
       "     'n_qubits': 5,\n",
       "     'clbit_labels': [['c', 0], ['c', 1]]},\n",
       "    'instructions': [{'name': 'rz',\n",
       "      'params': [1.5707963267948966],\n",
       "      'qubits': [0]},\n",
       "     {'name': 'sx', 'qubits': [0]},\n",
       "     {'params': [1.5707963267948966], 'qubits': [0], 'name': 'rz'},\n",
       "     {'name': 'cx', 'qubits': [0, 1]},\n",
       "     {'qubits': [0], 'name': 'measure', 'memory': [0]},\n",
       "     {'name': 'measure', 'memory': [1], 'qubits': [1]}]}],\n",
       "  'schema_version': '1.3.0',\n",
       "  'type': 'QASM',\n",
       "  'config': {'parameter_binds': [],\n",
       "   'parametric_pulses': ['gaussian',\n",
       "    'gaussian_square',\n",
       "    'gaussian_square_drag',\n",
       "    'drag',\n",
       "    'constant'],\n",
       "   'memory': False,\n",
       "   'rep_delay': 250,\n",
       "   'meas_level': 2,\n",
       "   'memory_slots': 2,\n",
       "   'shots': 4000,\n",
       "   'n_qubits': 5,\n",
       "   'init_qubits': True,\n",
       "   'use_measure_esp': False}}]"
      ]
     },
     "execution_count": 27,
     "metadata": {},
     "output_type": "execute_result"
    }
   ],
   "source": [
    "jobs[0].circuits()"
   ]
  },
  {
   "cell_type": "code",
   "execution_count": 28,
   "id": "6d000368-d255-4942-aef6-cb556dbaebb2",
   "metadata": {},
   "outputs": [],
   "source": [
    "backend = provider.get_backend('ibmq_lima')\n"
   ]
  },
  {
   "cell_type": "code",
   "execution_count": null,
   "id": "f6e03945-d104-41fd-a86f-79f50445393b",
   "metadata": {},
   "outputs": [],
   "source": []
  },
  {
   "cell_type": "code",
   "execution_count": 29,
   "id": "ae701830-f582-42aa-8f5c-5a45ee208b51",
   "metadata": {},
   "outputs": [
    {
     "name": "stdout",
     "output_type": "stream",
     "text": [
      "Qubit 1 has a \n",
      "  - T1 time of 112.00365928992207 microseconds\n",
      "  - T2 time of 156.74024098108464 microseconds\n",
      "  - SX gate error of 0.0005444390255248943\n",
      "  - SX gate duration of 35.55555555555556 nanoseconds\n",
      "  - resonant frequency of 5.127743135642841 GHz\n"
     ]
    }
   ],
   "source": [
    "props = backend.properties()\n",
    "\n",
    "def describe_qubit(qubit, properties):\n",
    "    \"\"\"Print a string describing some of reported properties of the given qubit.\"\"\"\n",
    "\n",
    "    # Conversion factors from standard SI units\n",
    "    us = 1e6\n",
    "    ns = 1e9\n",
    "    GHz = 1e-9\n",
    "\n",
    "    print(\"Qubit {0} has a \\n\"\n",
    "          \"  - T1 time of {1} microseconds\\n\"\n",
    "          \"  - T2 time of {2} microseconds\\n\"\n",
    "          \"  - SX gate error of {3}\\n\"\n",
    "          \"  - SX gate duration of {4} nanoseconds\\n\"\n",
    "          \"  - resonant frequency of {5} GHz\".format(\n",
    "              qubit,\n",
    "              properties.t1(qubit) * us,\n",
    "              properties.t2(qubit) * us,\n",
    "              properties.gate_error('sx', qubit),\n",
    "              properties.gate_length('sx', qubit) * ns,\n",
    "              properties.frequency(qubit) * GHz))\n",
    "\n",
    "describe_qubit(1, props)"
   ]
  },
  {
   "cell_type": "code",
   "execution_count": 30,
   "id": "027f7d41-95c6-440f-a047-0862f19311a5",
   "metadata": {},
   "outputs": [
    {
     "data": {
      "text/plain": [
       "['cx', 'id', 'rz', 'sx', 'x']"
      ]
     },
     "execution_count": 30,
     "metadata": {},
     "output_type": "execute_result"
    }
   ],
   "source": [
    "backend.configuration().basis_gates"
   ]
  },
  {
   "cell_type": "code",
   "execution_count": 31,
   "id": "a88b33d3-1ab7-4220-8e46-47ae3a63c8b6",
   "metadata": {},
   "outputs": [],
   "source": [
    "import networkx as nx\n",
    "\n",
    "G = nx.Graph()\n"
   ]
  },
  {
   "cell_type": "code",
   "execution_count": 32,
   "id": "e2864b7f-0e4e-456a-89e8-eb6ba4a6accd",
   "metadata": {},
   "outputs": [],
   "source": [
    "G.add_edges_from([(0, 1),\n",
    " (1, 0),\n",
    " (1, 2),\n",
    " (1, 3),\n",
    " (2, 1),\n",
    " (3, 1),\n",
    " (3, 5),\n",
    " (4, 5),\n",
    " (5, 3),\n",
    " (5, 4),\n",
    " (5, 6),\n",
    " (6, 5)])"
   ]
  },
  {
   "cell_type": "code",
   "execution_count": 33,
   "id": "17f47017-f0b2-453d-87b5-cc66cd382dc3",
   "metadata": {},
   "outputs": [
    {
     "data": {
      "image/png": "[encoded data removed]",
      "text/plain": [
       "<Figure size 432x288 with 1 Axes>"
      ]
     },
     "metadata": {},
     "output_type": "display_data"
    }
   ],
   "source": [
    "nx.draw(G)"
   ]
  },
  {
   "cell_type": "code",
   "execution_count": 34,
   "id": "0fb37483-63b7-4269-9319-50a91bef022a",
   "metadata": {},
   "outputs": [],
   "source": [
    "# qubit_lists: list of list of qubit subsets to generate QV circuits\n",
    "# qubit_lists = [[0,1],[0,1,3],[0,1,2,3]]\n",
    "qubit_lists = [[0,1,3],[0,1,3,5],[0,1,3,5,7],[0,1,3,5,7,10]]\n",
    "# ntrials: Number of random circuits to create for each subset\n",
    "ntrials = 100\n"
   ]
  },
  {
   "cell_type": "code",
   "execution_count": 35,
   "id": "8cca1871-4524-407d-81ad-7c840b8c1113",
   "metadata": {},
   "outputs": [],
   "source": [
    "import warnings\n",
    "warnings.filterwarnings('ignore')\n",
    "qv_circs, qv_circs_nomeas = qv.qv_circuits(qubit_lists, ntrials)\n"
   ]
  },
  {
   "cell_type": "code",
   "execution_count": 36,
   "id": "1a71b28e-8270-4adc-9a10-316d1072fd29",
   "metadata": {},
   "outputs": [],
   "source": [
    "# pass the first trial of the nomeas through the transpiler to illustrate the circuit\n",
    "# qv_circs_nomeas[0] = qiskit.compiler.transpile(qv_circs_nomeas[0], basis_gates=['u1','u2','u3','cx'])\n",
    "qv_circs_nomeas[0] = qiskit.compiler.transpile(qv_circs_nomeas[0], basis_gates=['id', 'rz', 'sx', 'x', 'cx', 'reset'])\n"
   ]
  },
  {
   "cell_type": "code",
   "execution_count": 37,
   "id": "50b42385-2fa1-4a18-91a5-8b466ab13554",
   "metadata": {},
   "outputs": [
    {
     "data": {
      "text/html": [
       "<pre style=\"word-wrap: normal;white-space: pre;background: #fff0;line-height: 1.1;font-family: &quot;Courier New&quot;,Courier,monospace\">global phase: 4.8973\n",
       "     ┌───────────────────────┐┌────┐┌─────────────────────┐ ┌────┐┌──────────────────────┐            ┌──────────┐      ┌────┐┌──────────────────────┐┌────┐      ┌──────────┐                 ┌──────────┐      ┌────┐    ┌─────────────┐     ┌────┐                            ┌─────────────┐┌────┐┌─────────────┐ ┌────┐┌─────────────┐ ┌───┐┌───────────────────────┐┌────┐┌──────────────────────┐┌────┐┌──────────────────────┐┌───┐┌──────────────────────┐┌────┐┌──────────────────────┐┌────┐┌─────────────────────┐┌───┐       ┌───────────┐       ┌────┐    ┌─────────────┐     ┌────┐    ┌──────────────┐    ┌───┐┌────────────────────────┐┌────┐┌──────────────────────┐┌────┐┌──────────────────────┐┌───┐┌──────────────────────┐┌────┐┌──────────────────────┐┌────┐┌─────────────────────┐┌───┐┌───────────────────────┐ ┌────┐┌──────────────────────┐┌────┐┌──────────────────────┐\n",
       "q_0: ┤ Rz(-2.80618002440565) ├┤ √X ├┤ Rz(5.1292882192747) ├─┤ √X ├┤ Rz(6.34691885803811) ├──■─────────┤ Rz(-π/2) ├──────┤ √X ├┤ Rz(3.74978240731177) ├┤ √X ├──────┤ Rz(5π/2) ├────────■────────┤ Rz(-π/2) ├──────┤ √X ├────┤ Rz(-3.0133) ├─────┤ √X ├─────────────────────────■──┤ Rz(-2.1699) ├┤ √X ├┤ Rz(-1.7995) ├─┤ √X ├┤ Rz(0.15881) ├─┤ X ├┤ Rz(-1.15555294979725) ├┤ √X ├┤ Rz(3.91559856164055) ├┤ √X ├┤ Rz(9.11936242195573) ├┤ X ├┤ Rz(2.60392723686644) ├┤ √X ├┤ Rz(5.23241481292213) ├┤ √X ├┤ Rz(6.9779421007214) ├┤ X ├───────┤ Rz(1.854) ├───────┤ √X ├────┤ Rz(-1.6665) ├─────┤ √X ├────┤ Rz(-0.53147) ├────┤ X ├┤ Rz(-0.796208024586285) ├┤ √X ├┤ Rz(4.03820326397199) ├┤ √X ├┤ Rz(8.87637583310294) ├┤ X ├┤ Rz(2.60392723686644) ├┤ √X ├┤ Rz(5.23241481292213) ├┤ √X ├┤ Rz(6.9779421007214) ├┤ X ├┤ Rz(0.151034258839127) ├─┤ √X ├┤ Rz(4.16697143428694) ├┤ √X ├┤ Rz(6.32917904499945) ├\n",
       "     └┬──────────────────────┤├────┤├─────────────────────┴┐├────┤├──────────────────────┤  │         └──────────┘      └────┘└──────────────────────┘└────┘      └──────────┘        │        └──────────┘      └────┘    └─────────────┘     └────┘                         │  └─────────────┘└────┘└─────────────┘ └────┘└─────────────┘ └─┬─┘└───────────────────────┘└────┘└──────────────────────┘└────┘└──────────────────────┘└─┬─┘└──────────────────────┘└────┘└──────────────────────┘└────┘└─────────────────────┘└─┬─┘       └───────────┘       └────┘    └─────────────┘     └────┘    └──────────────┘    └─┬─┘└──────┬──────────┬──────┘├────┤├──────────────────────┤├────┤└─────┬──────────┬─────┘└─┬─┘└─────┬──────────┬─────┘├────┤└────┬────────────┬────┘├────┤└─────────────────────┘└─┬─┘├───────────────────────┴┐├────┤├──────────────────────┤├────┤├──────────────────────┤\n",
       "q_1: ─┤ Rz(2.61077103315483) ├┤ √X ├┤ Rz(4.52099519504962) ├┤ √X ├┤ Rz(7.25344342203017) ├──┼─────────────────────────────────────────────────────────────────────────────────────────┼───────────────────────────────────────────────────────────────────────────────────────┼───────────────────────────────────────────────────────────────┼─────────────────────────────────────────────────────────────────────────────────────────┼───────────────────────────────────────────────────────────────────────────────────────┼───────────────────────────────────────────────────────────────────────────────────────────■─────────┤ Rz(-π/2) ├───────┤ √X ├┤ Rz(4.03907632704927) ├┤ √X ├──────┤ Rz(5π/2) ├────────■────────┤ Rz(-π/2) ├──────┤ √X ├─────┤ Rz(2.6131) ├─────┤ √X ├─────────────────────────■──┤ Rz(-0.756446404810798) ├┤ √X ├┤ Rz(4.60689346538132) ├┤ √X ├┤ Rz(10.3545479982924) ├\n",
       "      ├──────────────────────┤├────┤├──────────────────────┤├────┤├──────────────────────┤┌─┴─┐┌───────────────────────┐┌────┐┌──────────────────────┐┌────┐┌──────────────────────┐┌─┴─┐┌──────────────────────┐┌────┐┌──────────────────────┐┌────┐┌─────────────────────┐┌─┴─┐┌─────────────┐┌────┐┌──────────────┐┌────┐┌──────────────┐  │         ┌──────────┐      ┌────┐┌──────────────────────┐┌────┐      ┌──────────┐        │        ┌──────────┐      ┌────┐    ┌─────────────┐     ┌────┐                         │  ┌─────────────────────────┐┌────┐┌──────────────────────┐┌────┐┌──────────────────────┐            └──────────┘       └────┘└──────────────────────┘└────┘      └──────────┘                 └──────────┘      └────┘     └────────────┘     └────┘                            └────────────────────────┘└────┘└──────────────────────┘└────┘└──────────────────────┘\n",
       "q_2: ─┤ Rz(2.24893107892419) ├┤ √X ├┤ Rz(5.15174099189769) ├┤ √X ├┤ Rz(8.69233139486723) ├┤ X ├┤ Rz(-1.13980700958472) ├┤ √X ├┤ Rz(3.91914330738523) ├┤ √X ├┤ Rz(9.10812163778457) ├┤ X ├┤ Rz(2.60392723686644) ├┤ √X ├┤ Rz(5.23241481292213) ├┤ √X ├┤ Rz(6.9779421007214) ├┤ X ├┤ Rz(0.33815) ├┤ √X ├┤ Rz(-0.78235) ├┤ √X ├┤ Rz(-0.94343) ├──■─────────┤ Rz(-π/2) ├──────┤ √X ├┤ Rz(4.25842179229975) ├┤ √X ├──────┤ Rz(5π/2) ├────────■────────┤ Rz(-π/2) ├──────┤ √X ├────┤ Rz(-2.4383) ├─────┤ √X ├─────────────────────────■──┤ Rz(-0.0793126258447536) ├┤ √X ├┤ Rz(4.07091207900701) ├┤ √X ├┤ Rz(11.8872789864666) ├──────────────────────────────────────────────────────────────────────────────────────────────────────────────────────────────────────────────────────────────────────────────────────────────────────────────────────────────────────────────────────────────────────────────\n",
       "      └──────────────────────┘└────┘└──────────────────────┘└────┘└──────────────────────┘└───┘└───────────────────────┘└────┘└──────────────────────┘└────┘└──────────────────────┘└───┘└──────────────────────┘└────┘└──────────────────────┘└────┘└─────────────────────┘└───┘└─────────────┘└────┘└──────────────┘└────┘└──────────────┘            └──────────┘      └────┘└──────────────────────┘└────┘      └──────────┘                 └──────────┘      └────┘    └─────────────┘     └────┘                            └─────────────────────────┘└────┘└──────────────────────┘└────┘└──────────────────────┘                                                                                                                                                                                                                                                                              </pre>"
      ],
      "text/plain": [
       "global phase: 4.8973\n",
       "     ┌───────────────────────┐┌────┐┌─────────────────────┐ ┌────┐┌──────────────────────┐            ┌──────────┐      ┌────┐┌──────────────────────┐┌────┐      ┌──────────┐                 ┌──────────┐      ┌────┐    ┌─────────────┐     ┌────┐                            ┌─────────────┐┌────┐┌─────────────┐ ┌────┐┌─────────────┐ ┌───┐┌───────────────────────┐┌────┐┌──────────────────────┐┌────┐┌──────────────────────┐┌───┐┌──────────────────────┐┌────┐┌──────────────────────┐┌────┐┌─────────────────────┐┌───┐       ┌───────────┐       ┌────┐    ┌─────────────┐     ┌────┐    ┌──────────────┐    ┌───┐┌────────────────────────┐┌────┐┌──────────────────────┐┌────┐┌──────────────────────┐┌───┐┌──────────────────────┐┌────┐┌──────────────────────┐┌────┐┌─────────────────────┐┌───┐┌───────────────────────┐ ┌────┐┌──────────────────────┐┌────┐┌──────────────────────┐\n",
       "q_0: ┤ Rz(-2.80618002440565) ├┤ √X ├┤ Rz(5.1292882192747) ├─┤ √X ├┤ Rz(6.34691885803811) ├──■─────────┤ Rz(-π/2) ├──────┤ √X ├┤ Rz(3.74978240731177) ├┤ √X ├──────┤ Rz(5π/2) ├────────■────────┤ Rz(-π/2) ├──────┤ √X ├────┤ Rz(-3.0133) ├─────┤ √X ├─────────────────────────■──┤ Rz(-2.1699) ├┤ √X ├┤ Rz(-1.7995) ├─┤ √X ├┤ Rz(0.15881) ├─┤ X ├┤ Rz(-1.15555294979725) ├┤ √X ├┤ Rz(3.91559856164055) ├┤ √X ├┤ Rz(9.11936242195573) ├┤ X ├┤ Rz(2.60392723686644) ├┤ √X ├┤ Rz(5.23241481292213) ├┤ √X ├┤ Rz(6.9779421007214) ├┤ X ├───────┤ Rz(1.854) ├───────┤ √X ├────┤ Rz(-1.6665) ├─────┤ √X ├────┤ Rz(-0.53147) ├────┤ X ├┤ Rz(-0.796208024586285) ├┤ √X ├┤ Rz(4.03820326397199) ├┤ √X ├┤ Rz(8.87637583310294) ├┤ X ├┤ Rz(2.60392723686644) ├┤ √X ├┤ Rz(5.23241481292213) ├┤ √X ├┤ Rz(6.9779421007214) ├┤ X ├┤ Rz(0.151034258839127) ├─┤ √X ├┤ Rz(4.16697143428694) ├┤ √X ├┤ Rz(6.32917904499945) ├\n",
       "     └┬──────────────────────┤├────┤├─────────────────────┴┐├────┤├──────────────────────┤  │         └──────────┘      └────┘└──────────────────────┘└────┘      └──────────┘        │        └──────────┘      └────┘    └─────────────┘     └────┘                         │  └─────────────┘└────┘└─────────────┘ └────┘└─────────────┘ └─┬─┘└───────────────────────┘└────┘└──────────────────────┘└────┘└──────────────────────┘└─┬─┘└──────────────────────┘└────┘└──────────────────────┘└────┘└─────────────────────┘└─┬─┘       └───────────┘       └────┘    └─────────────┘     └────┘    └──────────────┘    └─┬─┘└──────┬──────────┬──────┘├────┤├──────────────────────┤├────┤└─────┬──────────┬─────┘└─┬─┘└─────┬──────────┬─────┘├────┤└────┬────────────┬────┘├────┤└─────────────────────┘└─┬─┘├───────────────────────┴┐├────┤├──────────────────────┤├────┤├──────────────────────┤\n",
       "q_1: ─┤ Rz(2.61077103315483) ├┤ √X ├┤ Rz(4.52099519504962) ├┤ √X ├┤ Rz(7.25344342203017) ├──┼─────────────────────────────────────────────────────────────────────────────────────────┼───────────────────────────────────────────────────────────────────────────────────────┼───────────────────────────────────────────────────────────────┼─────────────────────────────────────────────────────────────────────────────────────────┼───────────────────────────────────────────────────────────────────────────────────────┼───────────────────────────────────────────────────────────────────────────────────────────■─────────┤ Rz(-π/2) ├───────┤ √X ├┤ Rz(4.03907632704927) ├┤ √X ├──────┤ Rz(5π/2) ├────────■────────┤ Rz(-π/2) ├──────┤ √X ├─────┤ Rz(2.6131) ├─────┤ √X ├─────────────────────────■──┤ Rz(-0.756446404810798) ├┤ √X ├┤ Rz(4.60689346538132) ├┤ √X ├┤ Rz(10.3545479982924) ├\n",
       "      ├──────────────────────┤├────┤├──────────────────────┤├────┤├──────────────────────┤┌─┴─┐┌───────────────────────┐┌────┐┌──────────────────────┐┌────┐┌──────────────────────┐┌─┴─┐┌──────────────────────┐┌────┐┌──────────────────────┐┌────┐┌─────────────────────┐┌─┴─┐┌─────────────┐┌────┐┌──────────────┐┌────┐┌──────────────┐  │         ┌──────────┐      ┌────┐┌──────────────────────┐┌────┐      ┌──────────┐        │        ┌──────────┐      ┌────┐    ┌─────────────┐     ┌────┐                         │  ┌─────────────────────────┐┌────┐┌──────────────────────┐┌────┐┌──────────────────────┐            └──────────┘       └────┘└──────────────────────┘└────┘      └──────────┘                 └──────────┘      └────┘     └────────────┘     └────┘                            └────────────────────────┘└────┘└──────────────────────┘└────┘└──────────────────────┘\n",
       "q_2: ─┤ Rz(2.24893107892419) ├┤ √X ├┤ Rz(5.15174099189769) ├┤ √X ├┤ Rz(8.69233139486723) ├┤ X ├┤ Rz(-1.13980700958472) ├┤ √X ├┤ Rz(3.91914330738523) ├┤ √X ├┤ Rz(9.10812163778457) ├┤ X ├┤ Rz(2.60392723686644) ├┤ √X ├┤ Rz(5.23241481292213) ├┤ √X ├┤ Rz(6.9779421007214) ├┤ X ├┤ Rz(0.33815) ├┤ √X ├┤ Rz(-0.78235) ├┤ √X ├┤ Rz(-0.94343) ├──■─────────┤ Rz(-π/2) ├──────┤ √X ├┤ Rz(4.25842179229975) ├┤ √X ├──────┤ Rz(5π/2) ├────────■────────┤ Rz(-π/2) ├──────┤ √X ├────┤ Rz(-2.4383) ├─────┤ √X ├─────────────────────────■──┤ Rz(-0.0793126258447536) ├┤ √X ├┤ Rz(4.07091207900701) ├┤ √X ├┤ Rz(11.8872789864666) ├──────────────────────────────────────────────────────────────────────────────────────────────────────────────────────────────────────────────────────────────────────────────────────────────────────────────────────────────────────────────────────────────────────────────\n",
       "      └──────────────────────┘└────┘└──────────────────────┘└────┘└──────────────────────┘└───┘└───────────────────────┘└────┘└──────────────────────┘└────┘└──────────────────────┘└───┘└──────────────────────┘└────┘└──────────────────────┘└────┘└─────────────────────┘└───┘└─────────────┘└────┘└──────────────┘└────┘└──────────────┘            └──────────┘      └────┘└──────────────────────┘└────┘      └──────────┘                 └──────────┘      └────┘    └─────────────┘     └────┘                            └─────────────────────────┘└────┘└──────────────────────┘└────┘└──────────────────────┘                                                                                                                                                                                                                                                                              "
      ]
     },
     "execution_count": 37,
     "metadata": {},
     "output_type": "execute_result"
    }
   ],
   "source": [
    "qv_circs_nomeas[0][0].draw(fold=-1)\n"
   ]
  },
  {
   "cell_type": "code",
   "execution_count": 38,
   "id": "c2a09faf-afeb-44de-a2be-4fdaac3c29c9",
   "metadata": {},
   "outputs": [
    {
     "name": "stdout",
     "output_type": "stream",
     "text": [
      "Simulated trial 100/100\n"
     ]
    }
   ],
   "source": [
    "sv_sim = qiskit.Aer.get_backend('aer_simulator')\n",
    "ideal_results = []\n",
    "for trial in range(ntrials):\n",
    "    clear_output(wait=True)\n",
    "    for qc in qv_circs_nomeas[trial]:\n",
    "        qc.save_statevector()\n",
    "    result = qiskit.execute(qv_circs_nomeas[trial], backend=sv_sim).result()\n",
    "    ideal_results.append(result)\n",
    "    print(f'Simulated trial {trial+1}/{ntrials}')\n"
   ]
  },
  {
   "cell_type": "code",
   "execution_count": 39,
   "id": "ef8bc416-1115-466b-88ee-3308f0f959ca",
   "metadata": {},
   "outputs": [],
   "source": [
    "qv_fitter = qv.QVFitter(qubit_lists=qubit_lists)\n",
    "qv_fitter.add_statevectors(ideal_results)\n"
   ]
  },
  {
   "cell_type": "code",
   "execution_count": 40,
   "id": "3190d27e-3eb5-4fe2-b99d-d2e34e7780aa",
   "metadata": {},
   "outputs": [
    {
     "name": "stdout",
     "output_type": "stream",
     "text": [
      "qv_depth_3_trial_0: ['000', '001', '011', '111']\n",
      "qv_depth_4_trial_0: ['0011', '0101', '0110', '0111', '1010', '1100', '1101', '1111']\n",
      "qv_depth_5_trial_0: ['00000', '00010', '00011', '00100', '00101', '00111', '01001', '01011', '01111', '10001', '10010', '10111', '11011', '11101', '11110', '11111']\n",
      "qv_depth_6_trial_0: ['000011', '000100', '000101', '000110', '001101', '010000', '010001', '010100', '010110', '011001', '011100', '011101', '011110', '100011', '100111', '101000', '101001', '101010', '101011', '101100', '101101', '101110', '101111', '110000', '110010', '110011', '110100', '110101', '110111', '111010', '111011', '111101']\n"
     ]
    }
   ],
   "source": [
    "for qubit_list in qubit_lists:\n",
    "    l = len(qubit_list)\n",
    "    print ('qv_depth_'+str(l)+'_trial_0:', qv_fitter._heavy_outputs['qv_depth_'+str(l)+'_trial_0'])\n"
   ]
  },
  {
   "cell_type": "code",
   "execution_count": 41,
   "id": "c281fafe-c002-47e5-a770-883ca9facc62",
   "metadata": {},
   "outputs": [
    {
     "name": "stdout",
     "output_type": "stream",
     "text": [
      "qv_depth_3_trial_0: 0.7926315378902514\n",
      "qv_depth_4_trial_0: 0.8112022428872226\n",
      "qv_depth_5_trial_0: 0.8672385208414432\n",
      "qv_depth_6_trial_0: 0.8596064972566452\n"
     ]
    }
   ],
   "source": [
    "for qubit_list in qubit_lists:\n",
    "    l = len(qubit_list)\n",
    "    print ('qv_depth_'+str(l)+'_trial_0:', qv_fitter._heavy_output_prob_ideal['qv_depth_'+str(l)+'_trial_0'])\n"
   ]
  },
  {
   "cell_type": "code",
   "execution_count": 42,
   "id": "70c2e75b-aa84-49a3-aa31-8c9e5d9268fe",
   "metadata": {},
   "outputs": [],
   "source": [
    "# Quantum Volume with noisy simulator\n",
    "\n",
    "noise_model = NoiseModel()\n",
    "p1Q = 0.002\n",
    "p2Q = 0.02\n",
    "noise_model.add_all_qubit_quantum_error(depolarizing_error(p1Q, 1), 'u2')\n",
    "noise_model.add_all_qubit_quantum_error(depolarizing_error(2*p1Q, 1), 'u3')\n",
    "noise_model.add_all_qubit_quantum_error(depolarizing_error(p2Q, 2), 'cx')\n"
   ]
  },
  {
   "cell_type": "code",
   "execution_count": 43,
   "id": "670f18f0-898e-4509-a5f2-6eff5bf6a348",
   "metadata": {},
   "outputs": [
    {
     "name": "stdout",
     "output_type": "stream",
     "text": [
      "Completed trial 100/100\n"
     ]
    }
   ],
   "source": [
    "aer_sim = qiskit.Aer.get_backend('aer_simulator')\n",
    "basis_gates = ['u1','u2','u3','cx'] # use U,CX for now\n",
    "shots = 1024\n",
    "exp_results = []\n",
    "for trial in range(ntrials):\n",
    "    clear_output(wait=True)\n",
    "    t_qcs = transpile(qv_circs[trial], basis_gates=basis_gates, optimization_level=3)\n",
    "    qobj = assemble(t_qcs)\n",
    "    result = aer_sim.run(qobj, noise_model=noise_model, max_parallel_experiments=0).result()\n",
    "    exp_results.append(result)\n",
    "    print(f'Completed trial {trial+1}/{ntrials}')\n"
   ]
  },
  {
   "cell_type": "code",
   "execution_count": 70,
   "id": "6251ee52-ff65-41cd-9daa-c37c68877981",
   "metadata": {},
   "outputs": [
    {
     "name": "stdout",
     "output_type": "stream",
     "text": [
      "Completed trial 10/10\n"
     ]
    }
   ],
   "source": [
    "aer_sim = provider.get_backend('ibmq_lima')\n",
    "basis_gates = ['id', 'rz', 'sx', 'x', 'cx', 'reset'] # use U,CX for now\n",
    "\n",
    "shots = 1024\n",
    "exp_results = []\n",
    "for trial in range(ntrials):\n",
    "    clear_output(wait=True)\n",
    "    t_qcs = transpile(qv_circs[trial], basis_gates=basis_gates, backend=aer_sim, optimization_level=0)\n",
    "    qobj = assemble(t_qcs)\n",
    "    result = aer_sim.run(qobj, max_parallel_experiments=0).result()\n",
    "    exp_results.append(result)\n",
    "    print(f'Completed trial {trial+1}/{ntrials}')\n"
   ]
  },
  {
   "cell_type": "code",
   "execution_count": 44,
   "id": "20119efc-6c4d-4d3e-bae0-665a2e65da2c",
   "metadata": {},
   "outputs": [
    {
     "name": "stdout",
     "output_type": "stream",
     "text": [
      "qv_depth_3_trial_0: 757\n",
      "qv_depth_4_trial_0: 685\n",
      "qv_depth_5_trial_0: 792\n",
      "qv_depth_6_trial_0: 656\n"
     ]
    },
    {
     "data": {
      "image/png": "[encoded data removed]",
      "text/plain": [
       "<Figure size 720x432 with 1 Axes>"
      ]
     },
     "metadata": {
      "needs_background": "light"
     },
     "output_type": "display_data"
    }
   ],
   "source": [
    "qv_fitter.add_data(exp_results)\n",
    "for qubit_list in qubit_lists:\n",
    "    l = len(qubit_list)\n",
    "    print ('qv_depth_'+str(l)+'_trial_0:', qv_fitter._heavy_output_counts['qv_depth_'+str(l)+'_trial_0'])\n",
    "plt.figure(figsize=(10, 6))\n",
    "ax = plt.gca()\n",
    "\n",
    "# Plot the essence by calling plot_rb_data\n",
    "qv_fitter.plot_qv_data(ax=ax, show_plt=False)\n",
    "\n",
    "# Add title and label\n",
    "ax.set_title('Quantum Volume for up to %d Qubits \\n and %d Trials'%(len(qubit_lists[-1]), ntrials), fontsize=18)\n",
    "\n",
    "plt.show()\n"
   ]
  },
  {
   "cell_type": "code",
   "execution_count": null,
   "id": "d1fe5a5d-6a6b-4b78-af50-4cc955bfeb47",
   "metadata": {},
   "outputs": [],
   "source": []
  },
  {
   "cell_type": "markdown",
   "id": "f12912eb-1cfb-4158-b9d7-b5b965dbde62",
   "metadata": {},
   "source": [
    "# IonQ Quantum Volume"
   ]
  },
  {
   "cell_type": "code",
   "execution_count": 46,
   "id": "4fb3ee4e-0c45-47f4-a63c-46c3dd1026d7",
   "metadata": {},
   "outputs": [],
   "source": [
    "# from qbraid import device_wrapper\n",
    "# get_devices()\n",
    "qbraid_id = 'aws_sv_sim'  # as an example\n",
    "\n",
    "# qdevice = device_wrapper(qbraid_id)\n"
   ]
  },
  {
   "cell_type": "code",
   "execution_count": 47,
   "id": "45b456d7-b84c-404c-ad79-082a29bb7fce",
   "metadata": {},
   "outputs": [
    {
     "ename": "ModuleNotFoundError",
     "evalue": "No module named 'braket.circuits'",
     "output_type": "error",
     "traceback": [
      "\u001b[0;31m---------------------------------------------------------------------------\u001b[0m",
      "\u001b[0;31mModuleNotFoundError\u001b[0m                       Traceback (most recent call last)",
      "Cell \u001b[0;32mIn[47], line 17\u001b[0m\n\u001b[1;32m     14\u001b[0m \u001b[38;5;28;01mfrom\u001b[39;00m \u001b[38;5;21;01mIPython\u001b[39;00m\u001b[38;5;21;01m.\u001b[39;00m\u001b[38;5;21;01mdisplay\u001b[39;00m \u001b[38;5;28;01mimport\u001b[39;00m clear_output\n\u001b[1;32m     16\u001b[0m \u001b[38;5;66;03m# AWS imports: Import Braket SDK modules\u001b[39;00m\n\u001b[0;32m---> 17\u001b[0m \u001b[38;5;28;01mfrom\u001b[39;00m \u001b[38;5;21;01mbraket\u001b[39;00m\u001b[38;5;21;01m.\u001b[39;00m\u001b[38;5;21;01mcircuits\u001b[39;00m \u001b[38;5;28;01mimport\u001b[39;00m Circuit, Gate, Instruction, circuit, Observable\n\u001b[1;32m     18\u001b[0m \u001b[38;5;28;01mfrom\u001b[39;00m \u001b[38;5;21;01mbraket\u001b[39;00m\u001b[38;5;21;01m.\u001b[39;00m\u001b[38;5;21;01mdevices\u001b[39;00m \u001b[38;5;28;01mimport\u001b[39;00m LocalSimulator\n\u001b[1;32m     19\u001b[0m \u001b[38;5;28;01mfrom\u001b[39;00m \u001b[38;5;21;01mbraket\u001b[39;00m\u001b[38;5;21;01m.\u001b[39;00m\u001b[38;5;21;01maws\u001b[39;00m \u001b[38;5;28;01mimport\u001b[39;00m AwsDevice, AwsQuantumTask\n",
      "\u001b[0;31mModuleNotFoundError\u001b[0m: No module named 'braket.circuits'"
     ]
    }
   ],
   "source": [
    "#Import the qv function\n",
    "import qiskit.ignis.verification.quantum_volume as qv\n",
    "import qiskit\n",
    "from qiskit import assemble, transpile\n",
    "from qiskit import IBMQ\n",
    "# general imports\n",
    "import numpy as np\n",
    "import matplotlib.pyplot as plt\n",
    "# magic word for producing visualizations in notebook\n",
    "%matplotlib inline\n",
    "import string\n",
    "import time\n",
    "import matplotlib.pyplot as plt\n",
    "from IPython.display import clear_output\n",
    "\n",
    "# AWS imports: Import Braket SDK modules\n",
    "from braket.circuits import Circuit, Gate, Instruction, circuit, Observable\n",
    "from braket.devices import LocalSimulator\n",
    "from braket.aws import AwsDevice, AwsQuantumTask\n",
    "from qbraid import circuit_wrapper\n",
    "from qbraid import device_wrapper\n",
    "from qbraid import get_devices\n",
    "\n",
    "\n",
    "from qiskit.providers.aer.noise import NoiseModel\n",
    "from qiskit.providers.aer.noise.errors.standard_errors import depolarizing_error, thermal_relaxation_error\n",
    "\n",
    "\n",
    "# qubit_lists: list of list of qubit subsets to generate QV circuits\n",
    "qubit_lists = [[0,1],[0,1,2],[0,1,3,5],]\n",
    "# qubit_lists = [[0,1,3],[0,1,3,5],[0,1,3,5,7],[0,1,3,5,7,10]]\n",
    "# ntrials: Number of random circuits to create for each subset\n",
    "ntrials = 5\n"
   ]
  },
  {
   "cell_type": "code",
   "execution_count": 18,
   "id": "b6009dd3-915d-4033-8277-3d923af9cba4",
   "metadata": {},
   "outputs": [],
   "source": [
    "import warnings\n",
    "warnings.filterwarnings('ignore')\n",
    "qv_circs, qv_circs_nomeas = qv.qv_circuits(qubit_lists, ntrials)\n"
   ]
  },
  {
   "cell_type": "code",
   "execution_count": 94,
   "id": "860f083f-8cd3-41e0-a8c4-e136e5ad912b",
   "metadata": {},
   "outputs": [],
   "source": [
    "# pass the first trial of the nomeas through the transpiler to illustrate the circuit\n",
    "# qv_circs_nomeas[0] = qiskit.compiler.transpile(qv_circs_nomeas[0], basis_gates=['u1','u2','u3','cx'])\n",
    "qv_circs_nomeas[0] = qiskit.compiler.transpile(qv_circs_nomeas[0], basis_gates=['x', 'y', 'z', 'rx', 'ry', 'rz', 'h', 'cx', 'swap','s', 'si', 't', 'ti', 'v', 'vi', 'xx', 'yy', 'zz', 'id'])\n",
    "# qv_circs_nomeas[0] = qiskit.compiler.transpile(qv_circs_nomeas[0], basis_gates=['x', 'y', 'z', 'rx', 'ry', 'rz', 'h', 'cx', 'swap','s', 'si', 't', 'ti', 'id'])\n",
    "\n",
    "\n",
    "\n",
    "\n",
    "\n",
    "\n"
   ]
  },
  {
   "cell_type": "code",
   "execution_count": 95,
   "id": "1b253977-55a6-4a6e-8327-4a7202f21f01",
   "metadata": {},
   "outputs": [
    {
     "data": {
      "text/html": [
       "<pre style=\"word-wrap: normal;white-space: pre;background: #fff0;line-height: 1.1;font-family: &quot;Courier New&quot;,Courier,monospace\">     ┌───────────────────────────┐\n",
       "q_0: ┤0                          ├\n",
       "     │                           │\n",
       "q_1: ┤1 quantum_volume_[3,3,954] ├\n",
       "     │                           │\n",
       "q_2: ┤2                          ├\n",
       "     └───────────────────────────┘</pre>"
      ],
      "text/plain": [
       "     ┌───────────────────────────┐\n",
       "q_0: ┤0                          ├\n",
       "     │                           │\n",
       "q_1: ┤1 quantum_volume_[3,3,954] ├\n",
       "     │                           │\n",
       "q_2: ┤2                          ├\n",
       "     └───────────────────────────┘"
      ]
     },
     "execution_count": 95,
     "metadata": {},
     "output_type": "execute_result"
    }
   ],
   "source": [
    "qv_circs_nomeas[2][1].draw(fold=-1)\n"
   ]
  },
  {
   "cell_type": "code",
   "execution_count": 96,
   "id": "c7e6e8a1-6711-4f40-ae3f-ba5258d6b890",
   "metadata": {},
   "outputs": [
    {
     "name": "stdout",
     "output_type": "stream",
     "text": [
      "Simulated trial 5/5\n"
     ]
    }
   ],
   "source": [
    "sv_sim = qiskit.Aer.get_backend('aer_simulator')\n",
    "basis_gates = ['x', 'y', 'z', 'rx', 'ry', 'rz', 'h', 'cx', 'swap','s', 'si', 't', 'ti', 'v', 'vi', 'xx', 'yy', 'zz', 'id'] # use U,CX for now\n",
    "ideal_results = []\n",
    "all_trials = []\n",
    "for trial in range(ntrials):\n",
    "    clear_output(wait=True)\n",
    "    t_qcs = transpile(qv_circs_nomeas[trial], basis_gates=basis_gates, optimization_level=0)\n",
    "    tasks = []\n",
    "    for qk_circ in t_qcs:\n",
    "        braket_circ = circuit_wrapper(qk_circ).transpile('braket')\n",
    "\n",
    "        device = LocalSimulator()\n",
    "\n",
    "        # my_bucket = f\"amazon-braket-Your-Bucket-Name\" # the name of the bucket\n",
    "        # my_prefix = \"Your-Folder-Name\" # the name of the folder in the bucket\n",
    "        # s3_folder = (my_bucket, my_prefix)\n",
    "        # device = AwsDevice(\"arn:aws:braket:::device/qpu/ionq/ionQdevice\")\n",
    "        braket_task = device.run(braket_circ,shots=1024).result()\n",
    "\n",
    "        # braket_task = device.run(braket_circ, s3_folder, shots=100, poll_timeout_seconds=5*24*60*60)\n",
    "        # braket_task = device.run(braket_circ,shots=1000)\n",
    "        # counts = braket_result.measurement_counts\n",
    "        tasks.append(braket_task)\n",
    "        # print(braket_task.id)\n",
    "    all_trials.append(tasks)\n",
    "        \n",
    "\n",
    "    for qc in qv_circs_nomeas[trial]:\n",
    "        qc.save_statevector()\n",
    "\n",
    "    result = qiskit.execute(qv_circs_nomeas[trial], backend=sv_sim).result()\n",
    "    ideal_results.append(result)\n",
    "    print(f'Simulated trial {trial+1}/{ntrials}')\n"
   ]
  },
  {
   "cell_type": "code",
   "execution_count": 97,
   "id": "87de5e83-5c06-411f-a622-7bf54dba4120",
   "metadata": {},
   "outputs": [],
   "source": [
    "# print(all_trials)\n",
    "# braket_task.measurement_counts\n",
    "data_for_qiskit = []\n",
    "for trial in all_trials:\n",
    "    b_results = []\n",
    "    for braket_result in trial:\n",
    "        data = {}\n",
    "        for k,v in braket_result.measurement_counts.items():\n",
    "            data[hex(int(k[::-1],16))]=v\n",
    "            # print(k)\n",
    "        b_results.append(data)\n",
    "    data_for_qiskit.append(b_results)"
   ]
  },
  {
   "cell_type": "code",
   "execution_count": 98,
   "id": "34607d1a-2c32-4396-bcf5-ec6d27c31210",
   "metadata": {},
   "outputs": [
    {
     "data": {
      "text/plain": [
       "{'0x11': 245, '0x0': 229, '0x10': 155, '0x1': 395}"
      ]
     },
     "execution_count": 98,
     "metadata": {},
     "output_type": "execute_result"
    }
   ],
   "source": [
    "data_for_qiskit[0][0]"
   ]
  },
  {
   "cell_type": "code",
   "execution_count": 99,
   "id": "8c07f71d-916b-4c95-90ac-c1963ffada61",
   "metadata": {},
   "outputs": [
    {
     "data": {
      "text/plain": [
       "Counter({'11': 245, '00': 229, '01': 155, '10': 395})"
      ]
     },
     "execution_count": 99,
     "metadata": {},
     "output_type": "execute_result"
    }
   ],
   "source": [
    "all_trials[0][0].measurement_counts"
   ]
  },
  {
   "cell_type": "code",
   "execution_count": null,
   "id": "4d93e318-fc59-4421-b8e2-e6a60c47e69d",
   "metadata": {},
   "outputs": [],
   "source": []
  },
  {
   "cell_type": "code",
   "execution_count": 100,
   "id": "db9e2f8f-23c2-489d-984b-b210f7ee4601",
   "metadata": {},
   "outputs": [],
   "source": [
    "qv_fitter = qv.QVFitter(qubit_lists=qubit_lists)\n",
    "qv_fitter.add_statevectors(ideal_results)\n"
   ]
  },
  {
   "cell_type": "code",
   "execution_count": 101,
   "id": "1a986ff7-d2e0-43fb-96df-e9e96afe6548",
   "metadata": {},
   "outputs": [
    {
     "name": "stdout",
     "output_type": "stream",
     "text": [
      "qv_depth_2_trial_0: ['00', '01']\n",
      "qv_depth_3_trial_0: ['000', '010', '011', '110']\n",
      "qv_depth_4_trial_0: ['0010', '0011', '0100', '0101', '0111', '1001', '1010', '1111']\n"
     ]
    }
   ],
   "source": [
    "for qubit_list in qubit_lists:\n",
    "    l = len(qubit_list)\n",
    "    print ('qv_depth_'+str(l)+'_trial_0:', qv_fitter._heavy_outputs['qv_depth_'+str(l)+'_trial_0'])\n"
   ]
  },
  {
   "cell_type": "code",
   "execution_count": 102,
   "id": "06859742-e89f-44a6-8ac3-52bd2a389c5f",
   "metadata": {},
   "outputs": [
    {
     "name": "stdout",
     "output_type": "stream",
     "text": [
      "qv_depth_2_trial_0: 0.6152495416262228\n",
      "qv_depth_3_trial_0: 0.8044942061325417\n",
      "qv_depth_4_trial_0: 0.8583784774830869\n"
     ]
    }
   ],
   "source": [
    "for qubit_list in qubit_lists:\n",
    "    l = len(qubit_list)\n",
    "    print ('qv_depth_'+str(l)+'_trial_0:', qv_fitter._heavy_output_prob_ideal['qv_depth_'+str(l)+'_trial_0'])\n"
   ]
  },
  {
   "cell_type": "code",
   "execution_count": 103,
   "id": "f9a442dd-1e5d-487b-a718-7728aa515636",
   "metadata": {},
   "outputs": [],
   "source": [
    "# Quantum Volume with noisy simulator\n",
    "\n",
    "noise_model = NoiseModel()\n",
    "p1Q = 0.002\n",
    "p1Q = 0.00000002\n",
    "p2Q = 0.02\n",
    "p2Q = 0.0000002\n",
    "noise_model.add_all_qubit_quantum_error(depolarizing_error(p1Q, 1), 'u2')\n",
    "noise_model.add_all_qubit_quantum_error(depolarizing_error(2*p1Q, 1), 'u3')\n",
    "noise_model.add_all_qubit_quantum_error(depolarizing_error(p2Q, 2), 'cx')\n"
   ]
  },
  {
   "cell_type": "code",
   "execution_count": 104,
   "id": "a7618a3b-5868-46a1-aa38-95f61f221373",
   "metadata": {},
   "outputs": [
    {
     "name": "stdout",
     "output_type": "stream",
     "text": [
      "Completed trial 5/5\n"
     ]
    }
   ],
   "source": [
    "aer_sim = qiskit.Aer.get_backend('aer_simulator')\n",
    "# basis_gates = ['x', 'y', 'z', 'rx', 'ry', 'rz', 'h', 'cnot', 's', 'si', 't', 'ti', 'v', 'vi', 'xx', 'yy', 'zz', 'swap', 'i'] # use U,CX for now\n",
    "basis_gates = ['x', 'y', 'z', 'rx', 'ry', 'rz', 'h', 'cx', 'swap','s', 'si', 't', 'ti', 'v', 'vi', 'xx', 'yy', 'zz', 'id'] # use U,CX for now\n",
    "shots = 1024\n",
    "exp_results = []\n",
    "for trial in range(ntrials):\n",
    "    clear_output(wait=True)\n",
    "    t_qcs = qv_circs[trial]\n",
    "    t_qcs = transpile(qv_circs[trial], basis_gates=basis_gates, optimization_level=0)\n",
    "\n",
    "    qobj = assemble(t_qcs)\n",
    "    result = aer_sim.run(qobj, noise_model=noise_model, max_parallel_experiments=0).result()\n",
    "    for i in range(len(result.results)):\n",
    "        result.results[i].data.counts = data_for_qiskit[trial][i]\n",
    "    exp_results.append(result)\n",
    "    print(f'Completed trial {trial+1}/{ntrials}')\n",
    "\n"
   ]
  },
  {
   "cell_type": "code",
   "execution_count": 105,
   "id": "3ff674f7-84d8-479e-b766-53bfbc6c6a35",
   "metadata": {},
   "outputs": [
    {
     "name": "stdout",
     "output_type": "stream",
     "text": [
      "qv_depth_2_trial_0: 624\n",
      "qv_depth_3_trial_0: 268\n",
      "qv_depth_4_trial_0: 0\n"
     ]
    },
    {
     "data": {
      "image/png": "[encoded data removed]",
      "text/plain": [
       "<Figure size 720x432 with 1 Axes>"
      ]
     },
     "metadata": {
      "needs_background": "light"
     },
     "output_type": "display_data"
    }
   ],
   "source": [
    "qv_fitter.add_data(exp_results)\n",
    "for qubit_list in qubit_lists:\n",
    "    l = len(qubit_list)\n",
    "    print ('qv_depth_'+str(l)+'_trial_0:', qv_fitter._heavy_output_counts['qv_depth_'+str(l)+'_trial_0'])\n",
    "plt.figure(figsize=(10, 6))\n",
    "ax = plt.gca()\n",
    "\n",
    "# Plot the essence by calling plot_rb_data\n",
    "qv_fitter.plot_qv_data(ax=ax, show_plt=False)\n",
    "\n",
    "# Add title and label\n",
    "ax.set_title('Quantum Volume for up to %d Qubits \\n and %d Trials'%(len(qubit_lists[-1]), ntrials), fontsize=18)\n",
    "\n",
    "plt.show()\n"
   ]
  },
  {
   "cell_type": "code",
   "execution_count": 90,
   "id": "0a645143-c771-46f6-88bd-c1b9cea560f6",
   "metadata": {},
   "outputs": [
    {
     "name": "stdout",
     "output_type": "stream",
     "text": [
      "{'0x0': 692, '0x11': 196, '0x10': 100, '0x1': 36}\n"
     ]
    }
   ],
   "source": [
    "# print(data_for_qiskit[0])\n",
    "# print(data_for_qiskit[0][1])\n",
    "print(data_for_qiskit[0][0])\n",
    "# data_for_qiskit[0][1]\n",
    "# data_for_qiskit[0][2]"
   ]
  },
  {
   "cell_type": "code",
   "execution_count": 91,
   "id": "47ec9916-3e3a-484e-8d29-062a95e70490",
   "metadata": {},
   "outputs": [
    {
     "data": {
      "text/plain": [
       "{'counts': {'0x1': 42, '0x2': 100, '0x0': 681, '0x3': 201}}"
      ]
     },
     "execution_count": 91,
     "metadata": {},
     "output_type": "execute_result"
    }
   ],
   "source": [
    "exp_results[0].results[0].data.to_dict()\n"
   ]
  },
  {
   "cell_type": "code",
   "execution_count": 32,
   "id": "60355842-2e87-4a5d-8371-b384e910d8c6",
   "metadata": {},
   "outputs": [
    {
     "data": {
      "text/plain": [
       "[{'01': 1774, '10': 135, '00': 181},\n",
       " {'110': 268, '000': 317, '101': 810, '001': 408},\n",
       " {'1000': 89,\n",
       "  '0000': 247,\n",
       "  '1101': 230,\n",
       "  '1100': 892,\n",
       "  '1111': 301,\n",
       "  '1011': 53,\n",
       "  '1010': 52,\n",
       "  '0001': 67}]"
      ]
     },
     "execution_count": 32,
     "metadata": {},
     "output_type": "execute_result"
    }
   ],
   "source": [
    "exp_results[0].get_counts()"
   ]
  },
  {
   "cell_type": "code",
   "execution_count": 63,
   "id": "0faa720b-6c16-430f-8fc0-c40f1dd3f827",
   "metadata": {},
   "outputs": [
    {
     "name": "stdout",
     "output_type": "stream",
     "text": [
      "3\n",
      "4\n",
      "{'0x0': 32, '0x3': 289, '0x7': 243, '0x5': 119, '0x1': 186, '0x6': 34, '0x4': 54, '0x2': 67}\n"
     ]
    }
   ],
   "source": [
    "# print(result)\n",
    "qv_fitter.add_data(exp_results)\n",
    "# qv_fitter._circ_counts\n",
    "\n",
    "ntrials_circ = int(result.results[0].header.name.split('_')[-1])\n",
    "# qv_circs[0]\n",
    "# print(result.get_counts())\n",
    "# print(result.to_dict()['results'][1]['data']['counts'])\n",
    "# print(result.results[0].data.counts.keys())\n",
    "# print(result.results[0].data.to_dict())\n",
    "# print(result.results[1].data.to_dict())\n",
    "# print(result.results[2].data.to_dict())\n",
    "# print(result.results[3].data.to_dict())\n",
    "print(len(exp_results))\n",
    "print(len(result.results))\n",
    "result_counts = result.results[0].data.counts\n",
    "print(result_counts)"
   ]
  },
  {
   "cell_type": "code",
   "execution_count": 64,
   "id": "95b9272f-e4d1-415d-8b52-606432dfacc8",
   "metadata": {},
   "outputs": [
    {
     "name": "stdout",
     "output_type": "stream",
     "text": [
      "0011\n",
      "0000 32\n",
      "0011 289\n",
      "0111 243\n",
      "0101 119\n",
      "0001 186\n",
      "0110 34\n",
      "0100 54\n",
      "0010 67\n"
     ]
    }
   ],
   "source": [
    "# int('0x3')\n",
    "bstr = '01'\n",
    "number, pad, rjust, size, kind = 0x3, '0', '>', 4, 'b'\n",
    "print(f'{number:{pad}{rjust}{size}{kind}}')\n",
    "hex(int(bstr))\n",
    "# hex(int('0x3'))\n",
    "for k,v in result_counts.items():\n",
    "    # print(type(int(k,16)))\n",
    "    # break\n",
    "    print(f'{int(k,16):{pad}{rjust}{size}{kind}}', result_counts[k])"
   ]
  },
  {
   "cell_type": "code",
   "execution_count": 65,
   "id": "49ceba3e-119b-48b5-9cde-d4eb37e30d74",
   "metadata": {},
   "outputs": [
    {
     "name": "stdout",
     "output_type": "stream",
     "text": [
      "<class 'int'>\n"
     ]
    }
   ],
   "source": [
    "a = 0x3\n",
    "print(type(a))"
   ]
  },
  {
   "cell_type": "code",
   "execution_count": 66,
   "id": "8ad4be15-6f7f-45e9-9069-ec79eef8be49",
   "metadata": {},
   "outputs": [],
   "source": [
    "# print(hex(int('11')))\n",
    "\n",
    "# f'{int(b'11', 2):x}'\n",
    "# as"
   ]
  },
  {
   "cell_type": "code",
   "execution_count": 62,
   "id": "40ea057f-0811-4510-9073-0da7f84c9c41",
   "metadata": {},
   "outputs": [
    {
     "name": "stdout",
     "output_type": "stream",
     "text": [
      "<class 'qiskit.circuit.library.quantum_volume.QuantumVolume'>\n"
     ]
    }
   ],
   "source": [
    "print(type(qv_circs_nomeas[1][0]))"
   ]
  },
  {
   "cell_type": "code",
   "execution_count": null,
   "id": "ba0d463d-a757-4c5d-a940-6468bf7195b8",
   "metadata": {},
   "outputs": [],
   "source": [
    "qv_fitter.add_data(exp_results)\n",
    "for qubit_list in qubit_lists:\n",
    "    l = len(qubit_list)\n",
    "    print ('qv_depth_'+str(l)+'_trial_0:', qv_fitter._heavy_output_counts['qv_depth_'+str(l)+'_trial_0'])\n",
    "plt.figure(figsize=(10, 6))\n",
    "ax = plt.gca()\n",
    "\n",
    "# Plot the essence by calling plot_rb_data\n",
    "qv_fitter.plot_qv_data(ax=ax, show_plt=False)\n",
    "\n",
    "# Add title and label\n",
    "ax.set_title('Quantum Volume for up to %d Qubits \\n and %d Trials'%(len(qubit_lists[-1]), ntrials), fontsize=18)\n",
    "\n",
    "plt.show()\n"
   ]
  },
  {
   "cell_type": "code",
   "execution_count": 1,
   "id": "ac7dbd16-b0db-4ce3-a213-35e92e0c510b",
   "metadata": {},
   "outputs": [
    {
     "ename": "ModuleNotFoundError",
     "evalue": "No module named 'braket.strawberryfields_plugin'",
     "output_type": "error",
     "traceback": [
      "\u001b[0;31m---------------------------------------------------------------------------\u001b[0m",
      "\u001b[0;31mModuleNotFoundError\u001b[0m                       Traceback (most recent call last)",
      "Input \u001b[0;32mIn [1]\u001b[0m, in \u001b[0;36m<cell line: 1>\u001b[0;34m()\u001b[0m\n\u001b[0;32m----> 1\u001b[0m \u001b[38;5;28;01mfrom\u001b[39;00m \u001b[38;5;21;01mbraket\u001b[39;00m\u001b[38;5;21;01m.\u001b[39;00m\u001b[38;5;21;01mstrawberryfields_plugin\u001b[39;00m \u001b[38;5;28;01mimport\u001b[39;00m BraketEngine\n\u001b[1;32m      3\u001b[0m eng \u001b[38;5;241m=\u001b[39m BraketEngine(\u001b[38;5;124m\"\u001b[39m\u001b[38;5;124marn:aws:braket:us-east-1::device/qpu/xanadu/Borealis\u001b[39m\u001b[38;5;124m\"\u001b[39m)\n\u001b[1;32m      4\u001b[0m device \u001b[38;5;241m=\u001b[39m eng\u001b[38;5;241m.\u001b[39mdevice\n",
      "\u001b[0;31mModuleNotFoundError\u001b[0m: No module named 'braket.strawberryfields_plugin'"
     ]
    }
   ],
   "source": [
    "from braket.strawberryfields_plugin import BraketEngine\n",
    "\n",
    "eng = BraketEngine(\"arn:aws:braket:us-east-1::device/qpu/xanadu/Borealis\")\n",
    "device = eng.device"
   ]
  },
  {
   "cell_type": "code",
   "execution_count": null,
   "id": "6343137d-fc08-40a1-8bf1-d8c67a77757b",
   "metadata": {},
   "outputs": [],
   "source": []
  },
  {
   "cell_type": "code",
   "execution_count": null,
   "id": "a3255a95-b634-4915-b0eb-427c503990f7",
   "metadata": {},
   "outputs": [],
   "source": []
  },
  {
   "cell_type": "code",
   "execution_count": null,
   "id": "4fbe29e0-944e-4aa0-8462-4f40fd249d78",
   "metadata": {},
   "outputs": [],
   "source": []
  },
  {
   "cell_type": "code",
   "execution_count": 2,
   "id": "d3c74a64-d3a7-4095-9101-9cb939f86406",
   "metadata": {},
   "outputs": [
    {
     "name": "stderr",
     "output_type": "stream",
     "text": [
      "/tmp/ipykernel_150/3637104791.py:14: DeprecationWarning: The qiskit.ignis package is deprecated and has been supersceded by the qiskit-experiments project. Refer to the migration guide: https://github.com/Qiskit/qiskit-ignis#migration-guide on how to migrate to the new project.\n",
      "  from qiskit.ignis.verification.tomography import state_tomography_circuits, StateTomographyFitter\n"
     ]
    }
   ],
   "source": [
    "# Needed for functions\n",
    "import numpy as np\n",
    "import time\n",
    "from copy import deepcopy\n",
    "\n",
    "# Import Qiskit classes\n",
    "import qiskit\n",
    "import qiskit.quantum_info as qi\n",
    "from qiskit import QuantumRegister, QuantumCircuit, ClassicalRegister, Aer\n",
    "from qiskit.providers.aer import noise\n",
    "from qiskit.compiler import assemble\n",
    "\n",
    "# Tomography functions\n",
    "from qiskit.ignis.verification.tomography import state_tomography_circuits, StateTomographyFitter\n",
    "from qiskit.ignis.verification.tomography import process_tomography_circuits, ProcessTomographyFitter\n",
    "from qiskit.ignis.verification.tomography import gateset_tomography_circuits, GatesetTomographyFitter\n",
    "import qiskit.ignis.mitigation.measurement as mc\n",
    "\n",
    "# Auxiliary methods\n",
    "from qiskit.quantum_info import Choi, Kraus\n",
    "from qiskit.extensions import HGate, XGate"
   ]
  },
  {
   "cell_type": "code",
   "execution_count": 3,
   "id": "6f972d29-d523-4345-894d-ce8d81b2d799",
   "metadata": {},
   "outputs": [
    {
     "name": "stdout",
     "output_type": "stream",
     "text": [
      "      ┌───┐     \n",
      "q0_0: ┤ H ├──■──\n",
      "      └───┘┌─┴─┐\n",
      "q0_1: ─────┤ X ├\n",
      "           └───┘\n",
      "Statevector([0.70710678+0.j, 0.        +0.j, 0.        +0.j,\n",
      "             0.70710678+0.j],\n",
      "            dims=(2, 2))\n"
     ]
    }
   ],
   "source": [
    "# Create the expected statevector\n",
    "q2 = QuantumRegister(2)\n",
    "bell = QuantumCircuit(q2)\n",
    "bell.h(q2[0])\n",
    "bell.cx(q2[0], q2[1])\n",
    "print(bell)\n",
    "\n",
    "target_state_bell = qi.Statevector.from_instruction(bell)\n",
    "print(target_state_bell)"
   ]
  },
  {
   "cell_type": "code",
   "execution_count": 4,
   "id": "9aed64c7-fb16-4f03-a8fa-02e71c763ccd",
   "metadata": {},
   "outputs": [
    {
     "name": "stdout",
     "output_type": "stream",
     "text": [
      "                \n",
      "q1_0: ──────────\n",
      "                \n",
      "q1_1: ──────────\n",
      "                \n",
      "q1_2: ──────────\n",
      "      ┌───┐     \n",
      "q1_3: ┤ H ├──■──\n",
      "      └───┘  │  \n",
      "q1_4: ───────┼──\n",
      "           ┌─┴─┐\n",
      "q1_5: ─────┤ X ├\n",
      "           └───┘\n"
     ]
    }
   ],
   "source": [
    "# Create the actual circuit\n",
    "q2 = QuantumRegister(6)\n",
    "bell = QuantumCircuit(q2)\n",
    "bell.h(q2[3])\n",
    "bell.cx(q2[3], q2[5])\n",
    "print(bell)\n",
    "\n"
   ]
  },
  {
   "cell_type": "code",
   "execution_count": 5,
   "id": "ce1bec98-998f-469e-869b-3332bf332b78",
   "metadata": {},
   "outputs": [
    {
     "name": "stdout",
     "output_type": "stream",
     "text": [
      "Time taken: 0.24877452850341797\n"
     ]
    }
   ],
   "source": [
    "\n",
    "\n",
    "# Generate circuits and run on simulator\n",
    "t = time.time()\n",
    "\n",
    "# Generate the state tomography circuits.\n",
    "qst_bell = state_tomography_circuits(bell, [q2[3], q2[5]])\n",
    "\n",
    "# Execute\n",
    "job = qiskit.execute(qst_bell, Aer.get_backend('qasm_simulator'), shots=5000)\n",
    "print('Time taken:', time.time() - t)\n",
    "\n",
    "# Fit result\n",
    "tomo_fitter_bell = StateTomographyFitter(job.result(), qst_bell)\n",
    "\n"
   ]
  },
  {
   "cell_type": "code",
   "execution_count": 6,
   "id": "738e91a7-0090-4887-9c4c-d055ecb8e05f",
   "metadata": {},
   "outputs": [
    {
     "name": "stdout",
     "output_type": "stream",
     "text": [
      "State Fidelity: F = 0.99822\n"
     ]
    }
   ],
   "source": [
    "\n",
    "\n",
    "# Perform the tomography fit\n",
    "# which outputs a density matrix\n",
    "rho_fit_bell = tomo_fitter_bell.fit(method='lstsq')\n",
    "F_bell = qi.state_fidelity(rho_fit_bell, target_state_bell)\n",
    "print('State Fidelity: F = {:.5f}'.format(F_bell))\n",
    "\n"
   ]
  },
  {
   "cell_type": "code",
   "execution_count": 7,
   "id": "8736b493-3288-4425-868c-bbf0a1719bf1",
   "metadata": {},
   "outputs": [
    {
     "name": "stdout",
     "output_type": "stream",
     "text": [
      "State fidelity (no correction): F = 0.57862\n",
      "State fidelity (w/ correction): F = 0.99606\n"
     ]
    }
   ],
   "source": [
    "\n",
    "\n",
    "#Add measurement noise\n",
    "noise_model = noise.NoiseModel()\n",
    "for qubit in range(6):\n",
    "    read_err = noise.errors.readout_error.ReadoutError([[0.75, 0.25],[0.1,0.9]])\n",
    "    noise_model.add_readout_error(read_err,[qubit])\n",
    "\n",
    "#generate the calibration circuits\n",
    "meas_calibs, state_labels = mc.complete_meas_cal(qubit_list=[3,5])\n",
    "\n",
    "backend = Aer.get_backend('qasm_simulator')\n",
    "job_cal = qiskit.execute(meas_calibs, backend=backend, shots=15000, noise_model=noise_model)\n",
    "job_tomo = qiskit.execute(qst_bell, backend=backend, shots=15000, noise_model=noise_model)\n",
    "\n",
    "meas_fitter = mc.CompleteMeasFitter(job_cal.result(),state_labels)\n",
    "\n",
    "tomo_bell = StateTomographyFitter(job_tomo.result(), qst_bell)\n",
    "\n",
    "#no correction\n",
    "rho_bell = tomo_bell.fit(method='lstsq')\n",
    "F_bell = qi.state_fidelity(rho_bell, target_state_bell)\n",
    "print('State fidelity (no correction): F = {:.5f}'.format(F_bell))\n",
    "\n",
    "#correct data\n",
    "correct_tomo_results = meas_fitter.filter.apply(job_tomo.result(), method='least_squares')\n",
    "tomo_bell_mit = StateTomographyFitter(correct_tomo_results, qst_bell)\n",
    "rho_fit_bell_mit = tomo_bell_mit.fit(method='lstsq')\n",
    "F_bell_mit = qi.state_fidelity(rho_fit_bell_mit, target_state_bell)\n",
    "print('State fidelity (w/ correction): F = {:.5f}'.format(F_bell_mit))\n",
    "\n"
   ]
  },
  {
   "cell_type": "code",
   "execution_count": 8,
   "id": "59a2626b-51fa-4a29-be24-10f39a90d7b3",
   "metadata": {},
   "outputs": [
    {
     "data": {
      "text/plain": [
       "{(('Zp',), ('X',)): {'0': 4000},\n",
       " (('Zp',), ('Y',)): {'1': 1954, '0': 2046},\n",
       " (('Zp',), ('Z',)): {'0': 1988, '1': 2012},\n",
       " (('Zm',), ('X',)): {'1': 4000},\n",
       " (('Zm',), ('Y',)): {'1': 2022, '0': 1978},\n",
       " (('Zm',), ('Z',)): {'1': 2047, '0': 1953},\n",
       " (('Xp',), ('X',)): {'0': 1980, '1': 2020},\n",
       " (('Xp',), ('Y',)): {'1': 1954, '0': 2046},\n",
       " (('Xp',), ('Z',)): {'0': 4000},\n",
       " (('Yp',), ('X',)): {'1': 2012, '0': 1988},\n",
       " (('Yp',), ('Y',)): {'1': 4000},\n",
       " (('Yp',), ('Z',)): {'1': 1962, '0': 2038}}"
      ]
     },
     "execution_count": 8,
     "metadata": {},
     "output_type": "execute_result"
    }
   ],
   "source": [
    "# Process tomography of a Hadamard gate\n",
    "q = QuantumRegister(1)\n",
    "circ = QuantumCircuit(q)\n",
    "circ.h(q[0])\n",
    "\n",
    "# Get the ideal unitary operator\n",
    "target_unitary = qi.Operator(circ)\n",
    "\n",
    "# Generate process tomography circuits and run on qasm simulator\n",
    "qpt_circs = process_tomography_circuits(circ, q)\n",
    "job = qiskit.execute(qpt_circs, Aer.get_backend('qasm_simulator'), shots=4000)\n",
    "\n",
    "# Extract tomography data so that counts are indexed by measurement configuration\n",
    "qpt_tomo = ProcessTomographyFitter(job.result(), qpt_circs)\n",
    "qpt_tomo.data"
   ]
  },
  {
   "cell_type": "code",
   "execution_count": 9,
   "id": "6c0d477d-c067-4c99-adc0-e7fa682314db",
   "metadata": {},
   "outputs": [
    {
     "name": "stdout",
     "output_type": "stream",
     "text": [
      "Fit time: 0.008121490478515625\n",
      "Average gate fidelity: F = 0.99965\n"
     ]
    }
   ],
   "source": [
    "# Tomographic reconstruction\n",
    "t = time.time()\n",
    "choi_fit_lstsq = qpt_tomo.fit(method='lstsq')\n",
    "\n",
    "print('Fit time:', time.time() - t)\n",
    "print('Average gate fidelity: F = {:.5f}'.format(qi.average_gate_fidelity(choi_fit_lstsq, target=target_unitary)))"
   ]
  },
  {
   "cell_type": "code",
   "execution_count": 10,
   "id": "14cb85ef-f16a-4c0c-b5f0-722185128974",
   "metadata": {},
   "outputs": [
    {
     "data": {
      "text/plain": [
       "{(('Zp',), ('X',)): {'1': 983, '0': 1017},\n",
       " (('Zp',), ('Y',)): {'0': 983, '1': 1017},\n",
       " (('Zp',), ('Z',)): {'0': 2000},\n",
       " (('Zm',), ('X',)): {'0': 941, '1': 1059},\n",
       " (('Zm',), ('Y',)): {'1': 982, '0': 1018},\n",
       " (('Zm',), ('Z',)): {'1': 2000},\n",
       " (('Xp',), ('X',)): {'0': 2000},\n",
       " (('Xp',), ('Y',)): {'0': 993, '1': 1007},\n",
       " (('Xp',), ('Z',)): {'0': 989, '1': 1011},\n",
       " (('Yp',), ('X',)): {'1': 1014, '0': 986},\n",
       " (('Yp',), ('Y',)): {'0': 2000},\n",
       " (('Yp',), ('Z',)): {'0': 1020, '1': 980}}"
      ]
     },
     "execution_count": 10,
     "metadata": {},
     "output_type": "execute_result"
    }
   ],
   "source": [
    "# Process tomography of a Hadamard gate\n",
    "q = QuantumRegister(2)\n",
    "circ = QuantumCircuit(q)\n",
    "circ.swap(q[0], q[1])\n",
    "\n",
    "# Generate process tomography circuits and run on qasm simulator\n",
    "# We use the optional prepared_qubits kwarg to specify that the prepared qubit was different to measured qubit\n",
    "qpt_circs = process_tomography_circuits(circ, q[1], prepared_qubits=q[0])\n",
    "job = qiskit.execute(qpt_circs, Aer.get_backend('qasm_simulator'), shots=2000)\n",
    "\n",
    "# Extract tomography data so that counts are indexed by measurement configuration\n",
    "qpt_tomo = ProcessTomographyFitter(job.result(), qpt_circs)\n",
    "qpt_tomo.data"
   ]
  },
  {
   "cell_type": "code",
   "execution_count": 11,
   "id": "a98786fd-9c15-4a27-909b-c6f290d00408",
   "metadata": {},
   "outputs": [
    {
     "name": "stdout",
     "output_type": "stream",
     "text": [
      "Fit time: 0.0062541961669921875\n",
      "Average gate fidelity: F = 0.99862\n"
     ]
    }
   ],
   "source": [
    "# Tomographic reconstruction\n",
    "\n",
    "t = time.time()\n",
    "choi_fit = qpt_tomo.fit(method='lstsq')\n",
    "print('Fit time:', time.time() - t)\n",
    "print('Average gate fidelity: F = {:.5f}'.format(qi.average_gate_fidelity(choi_fit)))\n"
   ]
  },
  {
   "cell_type": "code",
   "execution_count": null,
   "id": "7830661e-fdd9-4ac6-a869-15b7a521428a",
   "metadata": {},
   "outputs": [],
   "source": []
  }
 ],
 "metadata": {
  "kernelspec": {
   "display_name": "Python 3 [Qiskit]",
   "language": "python",
   "name": "python3_qiskit_9y9siy"
  },
  "language_info": {
   "codemirror_mode": {
    "name": "ipython",
    "version": 3
   },
   "file_extension": ".py",
   "mimetype": "text/x-python",
   "name": "python",
   "nbconvert_exporter": "python",
   "pygments_lexer": "ipython3",
   "version": "3.9.12"
  }
 },
 "nbformat": 4,
 "nbformat_minor": 5
}
