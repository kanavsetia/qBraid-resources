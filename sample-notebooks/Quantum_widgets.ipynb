{
 "cells": [
  {
   "cell_type": "markdown",
   "id": "54b119f0-3fc3-4a5f-bad9-f339979a6337",
   "metadata": {},
   "source": [
    "<h1 style=\"color:#D30982;\">Quantum Widgets</h1>\n"
   ]
  },
  {
   "cell_type": "markdown",
   "id": "1c6bb9ed-e5e2-436e-92f5-5067c8de3f7e",
   "metadata": {},
   "source": [
    "What is in this notebook?\n",
    "\n",
    "There are three widgets that I created for fun and for the aws blog post: https://aws.amazon.com/blogs/quantum-computing/bernoulli-line-and-the-bloch-sphere/\n",
    "\n",
    "\n",
    "**`INSTRUCTIONS`**\n",
    "1. The first code cell should run in the `default` python environment.\n",
    "2. The second and third code cell will require the creation of a new environment because qutip has some breaking dependencies. So, I would suggest you to make a new environment on qBraid using environment manager and install qutip, numpy, amazon-braket-sdk and matplotlib.\n",
    "3. The last code cell is just a rendering of a javascript bloch sphere made by https://github.com/JavaFXpert/\n",
    "\n"
   ]
  },
  {
   "cell_type": "markdown",
   "id": "16d9c348-b5ab-4268-8e59-84f3ed490569",
   "metadata": {},
   "source": [
    "## Bernoulli Line"
   ]
  },
  {
   "cell_type": "code",
   "execution_count": 13,
   "id": "5f578d2e-f543-4733-8017-36f5dbea578f",
   "metadata": {
    "tags": []
   },
   "outputs": [
    {
     "data": {
      "application/vnd.jupyter.widget-view+json": {
       "model_id": "cade1599ca5a4d209f27019d2f0df322",
       "version_major": 2,
       "version_minor": 0
      },
      "text/plain": [
       "HBox(children=(FloatSlider(value=0.5, description='\\\\(p_i\\\\)', max=1.0, orientation='vertical', step=0.0001), …"
      ]
     },
     "metadata": {},
     "output_type": "display_data"
    }
   ],
   "source": [
    "\n",
    "import matplotlib.pyplot as plt\n",
    "import ipywidgets as widgets\n",
    "import numpy as np\n",
    "from ipywidgets import Button, HBox, VBox\n",
    "\n",
    "def plot_shots(p):\n",
    "    fig = plt.figure()\n",
    "    ax = fig.add_axes([0,0,1,1])\n",
    "    langs = ['0', '1']\n",
    "    shots = [int(np.round(p*100)),int(np.round((1-p)*100))]\n",
    "    ax.bar(langs,shots)\n",
    "    plt.show()\n",
    "\n",
    "p=widgets.FloatSlider(min=0,max=1,value=0.5,step=0.0001,continuous=True, orientation='vertical',description=r'\\(p_i\\)')\n",
    "out=widgets.interactive_output(plot_shots,{'p':p})\n",
    "gui = HBox([p,out])\n",
    "display(gui)\n"
   ]
  },
  {
   "cell_type": "code",
   "execution_count": 14,
   "id": "2a484bde-bfb2-475b-9c40-11edd3438283",
   "metadata": {},
   "outputs": [
    {
     "data": {
      "application/vnd.jupyter.widget-view+json": {
       "model_id": "26ffe05ea7a2491fad10d1c1035eb518",
       "version_major": 2,
       "version_minor": 0
      },
      "text/plain": [
       "Layout(children=[Btn(children=['H'], class_='ma-2', color='#9A11DA', dark=True, layout=None, value=False), Btn…"
      ]
     },
     "metadata": {},
     "output_type": "display_data"
    },
    {
     "data": {
      "application/vnd.jupyter.widget-view+json": {
       "model_id": "dbd0a5a0006d426fa3b48162d8c8b427",
       "version_major": 2,
       "version_minor": 0
      },
      "text/plain": [
       "Layout(children=[Btn(children=['Rx'], class_='ma-2', color='#9A11DA', dark=True, layout=None, value=False), Te…"
      ]
     },
     "metadata": {},
     "output_type": "display_data"
    },
    {
     "data": {
      "application/vnd.jupyter.widget-view+json": {
       "model_id": "070a7f8d3d19431b9c7eb53ecf719d91",
       "version_major": 2,
       "version_minor": 0
      },
      "text/plain": [
       "Layout(children=[Btn(children=['Simulate'], class_='ma-2', color='#D30982', dark=True, layout=None, value=Fals…"
      ]
     },
     "metadata": {},
     "output_type": "display_data"
    },
    {
     "data": {
      "application/vnd.jupyter.widget-view+json": {
       "model_id": "a379bc7e923e4ed1be0e3d1d443cac91",
       "version_major": 2,
       "version_minor": 0
      },
      "text/plain": [
       "Output()"
      ]
     },
     "metadata": {},
     "output_type": "display_data"
    },
    {
     "data": {
      "application/vnd.jupyter.widget-view+json": {
       "model_id": "370e859d2ab04f4aa619a972b6c68ded",
       "version_major": 2,
       "version_minor": 0
      },
      "text/plain": [
       "Layout(children=[Output(), Output()], layout=None)"
      ]
     },
     "metadata": {},
     "output_type": "display_data"
    }
   ],
   "source": [
    "## WIDGET FOR BUILDING SINGLE QUBIT CIRCUITS WITH BRAKET\n",
    "import sys\n",
    "sys.path.append('../src/utils')\n",
    "from braket.circuits import Circuit\n",
    "from braket.devices import LocalSimulator\n",
    "import qutip\n",
    "import numpy as np\n",
    "import ipyvuetify as v\n",
    "from threading import Timer\n",
    "import ipywidgets as widgets\n",
    "import matplotlib.pyplot as plt\n",
    "import copy\n",
    "from qutip_bloch import Bloch\n",
    "# from qutip import Bloch\n",
    "\n",
    "class circuit_data():\n",
    "    \n",
    "    def __init__(self):\n",
    "        self.result = None\n",
    "        self.counts = None\n",
    "        self.state = None\n",
    "        self.value = Circuit().i(0)\n",
    "        self.run = None\n",
    "    def sim(self):\n",
    "        device = LocalSimulator()\n",
    "        # self.run = device.run(self.value,shots=100)\n",
    "        # run circuit\n",
    "        self.result = device.run(self.value,shots=100).result()\n",
    "        # get measurement shots\n",
    "        self.counts = self.result.measurement_counts\n",
    "        # print(self.counts)\n",
    "    def sim_statvector(self):\n",
    "        circ1 = copy.deepcopy(self.value)\n",
    "        circ1.state_vector()\n",
    "        device = LocalSimulator()\n",
    "        # run circuit\n",
    "        self.result = device.run(circ1).result()\n",
    "        # get measurement shots\n",
    "        self.state = self.result.values[0]\n",
    "        # print(self.counts)\n",
    "        \n",
    "        \n",
    "circ_data = circuit_data()\n",
    "\n",
    "\n",
    "# onClick listeners\n",
    "def H(widget, event, data):\n",
    "    circ_data.value=circ_data.value.h(0)\n",
    "    H_button.value = not H_button.value\n",
    "def X(widget, event, data):\n",
    "    circ_data.value=circ_data.value.x(0)\n",
    "    X_button.value = not X_button.value\n",
    "def Y(widget, event, data):\n",
    "    circ_data.value=circ_data.value.y(0)\n",
    "    Y_button.value = not Y_button.value\n",
    "def Z(widget, event, data):\n",
    "    circ_data.value=circ_data.value.z(0)\n",
    "    Z_button.value = not Z_button.value\n",
    "def Rx(widget, event, data):\n",
    "    circ_data.value=circ_data.value.rx(0, float(Rx_text.v_model)*np.pi/180)\n",
    "    Rx_button.value = not Rx_button.value\n",
    "def Ry(widget, event, data):\n",
    "    circ_data.value=circ_data.value.ry(0, float(Ry_text.v_model)*np.pi/180)\n",
    "    Z_button.value = not Z_button.value\n",
    "def Rz(widget, event, data):\n",
    "    circ_data.value=circ_data.value.rz(0, float(Rz_text.v_model)*np.pi/180)\n",
    "    Rz_button.value = not Rz_button.value\n",
    "def sim(widget, event, data):\n",
    "    # circ_data.sim()\n",
    "    sim_button.value = not sim_button.value\n",
    "def plot(widget, event, data):\n",
    "    # circ_data.sim()\n",
    "    plot_button.value = not plot_button.value\n",
    "def reset(widget, event, data):\n",
    "    circ_data.value=Circuit().i(0)\n",
    "    reset_button.value = not reset_button.value\n",
    "\n",
    "# interactive output functions\n",
    "def circ_interactive_output(H, X, Y, Z, Rx, Ry, Rz, reset):\n",
    "    if reset:\n",
    "        print(\" \")\n",
    "        return\n",
    "    print(circ_data.value)\n",
    "\n",
    "def bloch_sphere(sim,reset):\n",
    "    if reset:\n",
    "        print(\" \")\n",
    "        return\n",
    "    b = qutip.Bloch()\n",
    "    up = qutip.basis(2, 0)\n",
    "    down = qutip.basis(2, 1)\n",
    "    x = [1,0,0]\n",
    "    y = [0,1,0]\n",
    "    b.add_vectors(x)\n",
    "    b.add_vectors(y)\n",
    "    b.add_states(up)\n",
    "    global circ_data\n",
    "    if sim:\n",
    "        sim_button.value = not sim_button.value\n",
    "        circ_data.sim()\n",
    "        circ_data.sim_statvector()\n",
    "        # print(circ_data.result)\n",
    "        final_state = (qutip.basis(2,0)*circ_data.state[0]+qutip.basis(2,1)*circ_data.state[1]).unit()\n",
    "        b.add_states(final_state)\n",
    "        b.render()\n",
    "        b.show()\n",
    "        \n",
    "        # print(circ_data.counts)\n",
    "def plot_results(plot,reset):\n",
    "    if reset:\n",
    "        reset_button.value = not reset_button.value\n",
    "        print(\" \")\n",
    "        return\n",
    "    if plot:\n",
    "    # plot using Counter\n",
    "        if circ_data.counts:\n",
    "            plot_button.value = not plot_button.value\n",
    "            plt.bar(circ_data.counts.keys(), circ_data.counts.values());\n",
    "            plt.xlabel('bitstrings');\n",
    "            plt.ylabel('counts');\n",
    "        \n",
    "\n",
    "\n",
    "\n",
    "# quantum_bit = q_NOT(q_NOT(quantum_bit))\n",
    "# set up device\n",
    "# defining layout for the buttons:\n",
    "H_button = v.Btn(color='#9A11DA', dark=True, class_='ma-2', children=['H'], value = False)\n",
    "X_button = v.Btn(color='#9A11DA', dark=True, class_='ma-2', children=['X'], value = False)\n",
    "Y_button = v.Btn(color='#9A11DA', dark=True, class_='ma-2', children=['Y'], value = False)\n",
    "Z_button = v.Btn(color='#9A11DA', dark=True, class_='ma-2', children=['Z'], value = False)\n",
    "Rx_button = v.Btn(color='#9A11DA', dark=True, class_='ma-2', children=['Rx'], value = False)\n",
    "Ry_button = v.Btn(color='#9A11DA', dark=True, class_='ma-2', children=['Ry'], value = False)\n",
    "Rz_button = v.Btn(color='#9A11DA', dark=True, class_='ma-2', children=['Rz'], value = False)\n",
    "sim_button = v.Btn(color='#D30982', dark=True, class_='ma-2', children=['Simulate'], value=False)\n",
    "plot_button = v.Btn(color='#D30982', dark=True, class_='ma-2', children=['Plot Results'], value=False)\n",
    "reset_button = v.Btn(color='red', dark=True, class_='ma-2', children=['Reset'], value=False)\n",
    "Rx_text = v.TextField(style_=\"max-width:50px\", v_model='0')\n",
    "Ry_text = v.TextField(style_=\"max-width:50px\", v_model='0')\n",
    "Rz_text = v.TextField(style_=\"max-width:50px\", v_model='0')\n",
    "\n",
    "\n",
    "#onclick listeners for the buttons\n",
    "H_button.on_event('click', H)\n",
    "X_button.on_event('click', X)\n",
    "Y_button.on_event('click', Y)\n",
    "Z_button.on_event('click', Z)\n",
    "Rx_button.on_event('click', Rx)\n",
    "Ry_button.on_event('click', Ry)\n",
    "Rz_button.on_event('click', Rz)\n",
    "sim_button.on_event('click', sim)\n",
    "plot_button.on_event('click', plot)\n",
    "reset_button.on_event('click', reset)\n",
    "\n",
    "\n",
    "\n",
    "# trigger dictionaries\n",
    "circ_disp_triggers={\"H\":H_button,\"X\":X_button,\"Y\":Y_button,\"Z\":Z_button,\"Rx\":Rx_button,\"Ry\":Ry_button,\"Rz\":Rz_button,\"reset\":reset_button}\n",
    "sim_triggers={\"sim\":sim_button,\"reset\":reset_button}\n",
    "plot_trigger={\"plot\":plot_button,\"reset\":reset_button}\n",
    "\n",
    "circ_disp = widgets.interactive_output(circ_interactive_output,circ_disp_triggers)\n",
    "out=widgets.interactive_output(bloch_sphere, sim_triggers)\n",
    "plot_disp = widgets.interactive_output(plot_results,plot_trigger)\n",
    "\n",
    "\n",
    "\n",
    "# displaying the UI\n",
    "button_layout = v.Layout(children=[H_button,X_button,Y_button,Z_button])\n",
    "button_layout1 = v.Layout(children=[Rx_button, Rx_text,Ry_button,Ry_text, Rz_button,Rz_text])\n",
    "layout = v.Layout(children=[sim_button, plot_button,reset_button])\n",
    "output_layout = v.Layout(children=[out,plot_disp])\n",
    "\n",
    "display(button_layout,button_layout1,layout,circ_disp,output_layout)\n",
    "\n"
   ]
  },
  {
   "cell_type": "code",
   "execution_count": 15,
   "id": "9952339e-26d6-48cb-9d8b-35cb246cba82",
   "metadata": {},
   "outputs": [
    {
     "data": {
      "application/vnd.jupyter.widget-view+json": {
       "model_id": "4e1d5708172d47ceb91926cf41c6f30c",
       "version_major": 2,
       "version_minor": 0
      },
      "text/plain": [
       "HBox(children=(VBox(children=(FloatSlider(value=0.0, description='\\\\(\\\\theta\\\\)', max=360.0, step=1.0), FloatS…"
      ]
     },
     "metadata": {},
     "output_type": "display_data"
    }
   ],
   "source": [
    "import numpy as np\n",
    "import matplotlib.cm as cm\n",
    "import matplotlib.pyplot as plt\n",
    "import ipywidgets as widgets\n",
    "import qutip\n",
    "import numpy as np\n",
    "import matplotlib.pyplot as plt\n",
    "from ipywidgets import Button, HBox, VBox\n",
    "\n",
    "def bloch_widget(psi,phi, npsi, nphi, vphi, vpsi, hide_axes):\n",
    "    psi = psi*np.pi/180\n",
    "    npsi = npsi*np.pi/180\n",
    "    phi = phi*np.pi/180\n",
    "    nphi = nphi*np.pi/180\n",
    "    n = [np.sin(npsi)*np.cos(nphi), np.sin(npsi)*np.sin(nphi), np.cos(npsi)]\n",
    "    n_matrix = np.sin(npsi)*np.cos(nphi)*qutip.sigmax()+np.sin(npsi)*np.sin(nphi)*qutip.sigmay()+np.cos(npsi)*qutip.sigmaz()\n",
    "    n_1 = n_matrix.eigenstates()[1][0]\n",
    "    n_0 = n_matrix.eigenstates()[1][1]\n",
    "    b = Bloch()\n",
    "    b.sphere_alpha = 0\n",
    "    up = qutip.basis(2, 0)\n",
    "    down = qutip.basis(2, 1)\n",
    "    state = (qutip.basis(2,0)*np.cos(psi/2)+np.exp(1j*phi)*qutip.basis(2,1)*np.sin(psi/2)).unit()\n",
    "    x = [1,0,0]\n",
    "    y = [0,1,0]\n",
    "    z = [0,0,1]\n",
    "    overlap_vec = np.linalg.norm(n_0.overlap(state))*np.array(n)\n",
    "    if not hide_axes:\n",
    "        b.add_vectors(x,color='r')\n",
    "        b.add_vectors(y,color='r')\n",
    "        b.add_vectors(z,color='r')\n",
    "\n",
    "    b.add_states(state, color='g')\n",
    "    b.add_vectors(n,'b')\n",
    "    # b.add_states(n_0,'b')\n",
    "    b.add_vectors(overlap_vec,'g')\n",
    "    b.view = [vpsi,vphi]\n",
    "    b.figsize = [10,10]\n",
    "    b.render()    \n",
    "    b.show()\n",
    "    \n",
    "    \n",
    "def plot_shots(psi,phi,npsi,nphi):\n",
    "    psi = psi*np.pi/180\n",
    "    phi = phi*np.pi/180\n",
    "    npsi = npsi*np.pi/180\n",
    "    nphi = nphi*np.pi/180\n",
    "    state = (qutip.basis(2,0)*np.cos(psi/2)+np.exp(1j*phi)*qutip.basis(2,1)*np.sin(psi/2)).unit()\n",
    "    n = [np.sin(npsi)*np.cos(nphi), np.sin(npsi)*np.sin(nphi), np.cos(npsi)]\n",
    "    n_matrix = np.sin(npsi)*np.cos(nphi)*qutip.sigmax()+np.sin(npsi)*np.sin(nphi)*qutip.sigmay()+np.cos(npsi)*qutip.sigmaz()\n",
    "    n_1 = n_matrix.eigenstates()[1][0]\n",
    "    n_0 = n_matrix.eigenstates()[1][1]\n",
    "    overlap_0 = np.linalg.norm(n_0.overlap(state))**2\n",
    "    overlap_1 = np.linalg.norm(n_1.overlap(state))**2\n",
    "    fig = plt.figure()\n",
    "    ax = fig.add_axes([0,0,1,1])\n",
    "    langs = ['|0>', '|1>']\n",
    "    students = [int(np.round(overlap_0*100)),int(np.round(overlap_1*100))]\n",
    "    print(students)\n",
    "    ax.bar(langs,students)\n",
    "    plt.show()\n",
    "\n",
    "\n",
    "\n",
    "hide_axes=widgets.Checkbox(value=False,description='Hide coordinate axes',disabled=False,indent=False)\n",
    "psi=widgets.FloatSlider(min=0,max=360,step=1,value=0,description=r'\\(\\theta\\)')\n",
    "phi=widgets.FloatSlider(min=-180,max=180,value=0,step=1,description=r'\\(\\phi\\)')\n",
    "npsi=widgets.FloatSlider(min=0,max=180,step=1,value=0,description=r'\\(\\theta \\) axis')\n",
    "nphi=widgets.FloatSlider(min=0,max=360,value=0,step=1,description=r'\\(\\phi\\) axis')\n",
    "vpsi=widgets.FloatSlider(min=-180,max=180,step=1,value=-60,description=r'\\(\\theta \\) azi')\n",
    "vphi=widgets.FloatSlider(min=-180,max=180,value=35,step=1,description=r'\\(\\phi\\) ele')\n",
    "\n",
    "out=widgets.interactive_output(bloch_widget,{'psi':psi,'phi':phi,'npsi':npsi,'nphi':nphi,'vpsi':vpsi,'vphi':vphi, 'hide_axes': hide_axes})\n",
    "out_shots=widgets.interactive_output(plot_shots,{'psi':psi,'phi':phi,'npsi':npsi,'nphi':nphi})\n",
    "gui = HBox([out,out_shots])\n",
    "out.layout.height='700px'\n",
    "# display(widgets.VBox([psi,phi,npsi, nphi, vpsi,vphi]),gui)\n",
    "display(widgets.HBox([widgets.VBox([psi,phi,npsi, nphi, vpsi,vphi, hide_axes,out_shots]),out]))\n",
    "\n"
   ]
  },
  {
   "cell_type": "code",
   "execution_count": 16,
   "id": "1048d3ac-75cf-41ce-8555-d73080647ab1",
   "metadata": {},
   "outputs": [
    {
     "data": {
      "text/html": [
       "\n",
       "        <iframe\n",
       "            width=\"950\"\n",
       "            height=\"700\"\n",
       "            src=\"https://javafxpert.github.io/grok-bloch/\"\n",
       "            frameborder=\"0\"\n",
       "            allowfullscreen\n",
       "            \n",
       "        ></iframe>\n",
       "        "
      ],
      "text/plain": [
       "<IPython.lib.display.IFrame at 0x7fbd88575820>"
      ]
     },
     "execution_count": 16,
     "metadata": {},
     "output_type": "execute_result"
    }
   ],
   "source": [
    "\n",
    "from IPython.display import IFrame\n",
    "IFrame('https://javafxpert.github.io/grok-bloch/', width=950, height=700)\n"
   ]
  },
  {
   "cell_type": "code",
   "execution_count": null,
   "id": "0ae1fb8a-78ae-408f-918a-6848def6c9b5",
   "metadata": {},
   "outputs": [],
   "source": []
  }
 ],
 "metadata": {
  "kernelspec": {
   "display_name": "Python 3 [qbraidres]",
   "language": "python",
   "name": "python3_qbraidres_w974gq"
  },
  "language_info": {
   "codemirror_mode": {
    "name": "ipython",
    "version": 3
   },
   "file_extension": ".py",
   "mimetype": "text/x-python",
   "name": "python",
   "nbconvert_exporter": "python",
   "pygments_lexer": "ipython3",
   "version": "3.9.12"
  }
 },
 "nbformat": 4,
 "nbformat_minor": 5
}
